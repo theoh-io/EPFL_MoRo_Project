{
 "cells": [
  {
   "cell_type": "markdown",
   "id": "62449670",
   "metadata": {},
   "source": [
    "# Basics of Mobile Robotics - Final Project"
   ]
  },
  {
   "cell_type": "markdown",
   "id": "06d1c06e",
   "metadata": {},
   "source": [
    "**Students: Cécile Chavane, Yucef Grebici, Camille Guillaume, Théo Hermann**"
   ]
  },
  {
   "cell_type": "markdown",
   "id": "0e9c65a7",
   "metadata": {},
   "source": [
    "<h1>Table of Contents<span class=\"tocSkip\"></span></h1>\n",
    "\n",
    "<div class=\"toc\"><ul class=\"toc-item\">\n",
    "    <li><span><a href=\"#Introduction\" data-toc-modified-id=\">Introduction-1\"><span class=\"toc-item-num\">1&nbsp;&nbsp;</span>Introduction</a></span><ul class=\"toc-item\">\n",
    "        <li><span><a href=\"#Project-description\" data-toc-modified-id=\"Project-description-1.1\"><span class=\"toc-item-num\">1.1&nbsp;&nbsp;</span>Project description</a></span></li>\n",
    "        <li><span><a href=\"#Environment-Setup\" data-toc-modified-id=\"Environment-Setup-1.2\"><span class=\"toc-item-num\">1.2&nbsp;&nbsp;</span>Environment Setup</a></span></li>\n",
    "        <li><span><a href=\"#Libraries-Import\" data-toc-modified-id=\"Libraires-Import-1.2\"><span class=\"toc-item-num\">1.1&nbsp;&nbsp;</span>Libraries Import</a></span></li>\n",
    "        <li><span><a href=\"#Thymio COnnection\" data-toc-modified-id=\"Thymio-Connection-1.3\"><span class=\"toc-item-num\">1.1&nbsp;&nbsp;</span>Thymio Connection</a></span></li>\n",
    "        </ul></li>\n",
    "    <li><span><a href=\"#Description-of-the-modules\" data-toc-modified-id=\"Description-of-the-modules-2\"><span class=\"toc-item-num\">2&nbsp;&nbsp;</span>Description of the Modules</a></span><ul class=\"toc-item\">\n",
    "        <li><span><a href=\"#Vision\" data-toc-modified-id=\"Vision-2.1\"><span class=\"toc-item-num\">2.1&nbsp;&nbsp;</span>Vision</a></span></li>\n",
    "        <li><span><a href=\"#Global-Navigation\" data-toc-modified-id=\"Global-Navigation-2.2\"><span class=\"toc-item-num\">2.2&nbsp;&nbsp;</span>Global Navigation</a></span></li>\n",
    "        <li><span><a href=\"#Local-Navigation\" data-toc-modified-id=\"Local-Navigation-2.3\"><span class=\"toc-item-num\">2.3&nbsp;&nbsp;</span>Local Navigation</a></span></li>\n",
    "        <li><span><a href=\"#Filtering\" data-toc-modified-id=\"Filtering-2.4\"><span class=\"toc-item-num\">2.4&nbsp;&nbsp;</span>Filtering</a></span></li>\n",
    "        <li><span><a href=\"#Motion-Control\" data-toc-modified-id=\"Motion-Control-2.5\"><span class=\"toc-item-num\">2.5&nbsp;&nbsp;</span>Motion Control</a></span></li>\n",
    "        </ul></li>\n",
    "    <li><span><a href=\"#Code-of-the-overall-project\" data-toc-modified-id=\"Code-of-the-overall-project-3\"><span class=\"toc-item-num\">3&nbsp;&nbsp;</span>Code of the overall project</a></span></li>\n",
    "    <li><span><a href=\"#Conclusion\" data-toc-modified-id=\"Conclusion-4\"><span class=\"toc-item-num\">4&nbsp;&nbsp;</span>Conclusion</a></span>\n",
    "    </li></ul>\n",
    "    \n",
    "</div>"
   ]
  },
  {
   "cell_type": "markdown",
   "id": "e5f53c67",
   "metadata": {},
   "source": [
    "# Introduction\n",
    "\n",
    "## Project description \n"
   ]
  },
  {
   "cell_type": "markdown",
   "id": "cbd74ae0",
   "metadata": {},
   "source": [
    "**Guidelines:**\n",
    "\n",
    "\n",
    "**Implementation:**"
   ]
  },
  {
   "cell_type": "markdown",
   "id": "57061bde",
   "metadata": {},
   "source": [
    "## Environment  Setup"
   ]
  },
  {
   "cell_type": "markdown",
   "id": "1ad25f54",
   "metadata": {},
   "source": [
    "Description of the environment , obstacles,corners, start/goal, wireless thymio, camera position"
   ]
  },
  {
   "cell_type": "markdown",
   "id": "e2f44a9f",
   "metadata": {},
   "source": [
    "<figure>\n",
    "  <img src=\"pics/environment.jpeg\" width=\"500\" alt=\"Environment\" />\n",
    "  <figcaption> <center> <u>Figure 1:</u> Picture of the environment setup with lightning <center> </figcaption>\n",
    "</figure>\n",
    "\n",
    "\n",
    "\n",
    "<!-- Commentaire : <img src=\"pics/environment.jpeg\" width=\"500\"/> -->"
   ]
  },
  {
   "cell_type": "markdown",
   "id": "3d786fd5",
   "metadata": {},
   "source": [
    "## Libraries import"
   ]
  },
  {
   "cell_type": "code",
   "execution_count": null,
   "id": "ac0f61a6",
   "metadata": {},
   "outputs": [],
   "source": [
    "#checkez ceux qui sont réellement nécéssaires\n",
    "import numpy as np\n",
    "import pyvisgraph as vg\n",
    "import math\n",
    "import geopandas as gpd\n",
    "from geopandas import GeoSeries\n",
    "from shapely.geometry import Polygon, Point, LineString\n",
    "import time"
   ]
  },
  {
   "cell_type": "markdown",
   "id": "eaa0f2c8",
   "metadata": {},
   "source": [
    "## Thymio Connection"
   ]
  },
  {
   "cell_type": "code",
   "execution_count": null,
   "id": "4ae6ed97",
   "metadata": {},
   "outputs": [],
   "source": [
    "#communication asynchrone avec thymio\n",
    "from tdmclient import ClientAsync, aw\n",
    "client = ClientAsync()\n",
    "node = await client.wait_for_node()\n",
    "await node.lock()"
   ]
  },
  {
   "cell_type": "markdown",
   "id": "5a5a5bac",
   "metadata": {},
   "source": [
    "# Description of the modules"
   ]
  },
  {
   "cell_type": "markdown",
   "id": "c8e79f70",
   "metadata": {},
   "source": [
    "We separated our code in different python file containing the functions for each module. We will import all the python files below"
   ]
  },
  {
   "cell_type": "code",
   "execution_count": null,
   "id": "a469aba9",
   "metadata": {},
   "outputs": [],
   "source": [
    "import Vision as vis\n",
    "import Global as glob\n",
    "import local_nav as loc\n",
    "#import Filtering as fil\n",
    "import control as ctrl"
   ]
  },
  {
   "cell_type": "markdown",
   "id": "dc8a35fc",
   "metadata": {},
   "source": [
    "<span style=\"color: darkblue\"> TO REMOVE \n",
    "What is important is not to simply describe the code, which should be readable, but describe what is not in the code: the theory behind, the choices made, the measurements, the choice of parameters etc. Do not forget to cite your sources ! You can of course show how certain modules work in simulation here, or with pre-recorded data.</span> "
   ]
  },
  {
   "cell_type": "markdown",
   "id": "c88f9d35",
   "metadata": {},
   "source": [
    "## Vision"
   ]
  },
  {
   "cell_type": "code",
   "execution_count": null,
   "id": "b5a6afca",
   "metadata": {},
   "outputs": [],
   "source": []
  },
  {
   "cell_type": "markdown",
   "id": "405c8116",
   "metadata": {},
   "source": [
    "## Global Navigation"
   ]
  },
  {
   "cell_type": "markdown",
   "id": "e65c560b",
   "metadata": {},
   "source": [
    "During the initialization of the global path given to the robot we call the high level global_pathplanning function that implements the visibility graph algorithm. Here after are the different steps of this function.\n",
    "We use two libraries for this purpose:\n",
    "\n",
    "pyvisgraph for the visibility Graph algorithm: https://github.com/TaipanRex/pyvisgraph\n",
    "- Algorithm: Given a set of simple obstacle polygons, build a visibility graph and find the shortest path between two points.\n",
    "- The visibility graph algorithm (D.T. Lee) runs in O(n^2 log n) time. \n",
    "- The shortest path is found using Djikstra's algorithm.\n",
    "\n",
    "geopanda to manage geometric data: https://geopandas.org/en/stable/docs/reference/geoseries.html\n",
    "- Geometric library that allows to use data of geometric type: Geoseries, polygons, points and to manage this geometric data: plotting, adding marging, input to the visibility graph functions"
   ]
  },
  {
   "cell_type": "markdown",
   "id": "b98cf32e",
   "metadata": {},
   "source": [
    "Here we will define some example polygons that represent the obstacles, and example start and goal positions"
   ]
  },
  {
   "cell_type": "code",
   "execution_count": null,
   "id": "8d00d7ce",
   "metadata": {},
   "outputs": [],
   "source": [
    "# Initialization\n",
    "p1 = [(1, 0), (2, 0), (2, 1.5), (1, 1.5)]\n",
    "p3 = [(3, 3), (4, 3), (4, 4), (3, 4)]\n",
    "list_obstacles=[p1,p3]\n",
    "start_point=[0.0,0.0]\n",
    "end_point=[4.5, 3.5]"
   ]
  },
  {
   "cell_type": "code",
   "execution_count": null,
   "id": "9a119db0",
   "metadata": {},
   "outputs": [],
   "source": [
    "# We convert this polygone list into a geometric set of polygons\n",
    "g_without_margin = glob.obstacles_to_polygons(list_obstacles)\n",
    "glob.plot_geometric_data(g_without_margin)\n",
    "\n",
    "# We add a margin to the obstacles related to the thymio's size, here 0.2 as example\n",
    "margin=0.2 \n",
    "g = glob.polygons_add_margin(g_without_margin,margin)\n",
    "glob.plot_geometric_data(g)"
   ]
  },
  {
   "cell_type": "markdown",
   "id": "c5efb64b",
   "metadata": {},
   "source": [
    "We apply the visibility graph algorithm to this geometric set of Polygons representing the obstacles and compute the shortest path from start to goal\n",
    "\n"
   ]
  },
  {
   "cell_type": "code",
   "execution_count": null,
   "id": "185b39e4",
   "metadata": {},
   "outputs": [],
   "source": [
    "# Visibility graph creation based on the corners of obstacles with margin\n",
    "visgraph = glob.polygons_to_VisibilityGraph(g)\n",
    "\n",
    "# Computation of the shortest path of the visibility graph with Djikstra algorithm\n",
    "shortest_path = glob.VisibilityGraph_shortest_path(visgraph, start_point, end_point)\n",
    "print(\"Shortest path: \", shortest_path)\n",
    "distance = glob.path_distance(shortest_path)"
   ]
  },
  {
   "cell_type": "markdown",
   "id": "39df1d21",
   "metadata": {},
   "source": [
    "We convert this shortest path between start and goal into the geometric type and plot the resulting global path "
   ]
  },
  {
   "cell_type": "code",
   "execution_count": null,
   "id": "a18bcdd0",
   "metadata": {},
   "outputs": [],
   "source": [
    "path = glob.ShortestPath_to_geometric(shortest_path)\n",
    "\n",
    "# We plot the geometric data set with both the path and the obstacles\n",
    "g = g.geometry.append(g_without_margin)\n",
    "g = g.geometry.append(path.geometry)\n",
    "glob.plot_geometric_data(g)"
   ]
  },
  {
   "cell_type": "markdown",
   "id": "65c363d2",
   "metadata": {},
   "source": [
    "Finally we convert this geometric path into a vector which will be given to the main and will correspond to the path steps that the robot will follow if there is no local avoidance."
   ]
  },
  {
   "cell_type": "code",
   "execution_count": null,
   "id": "9cae52d0",
   "metadata": {},
   "outputs": [],
   "source": [
    "path=glob.geometric_path_to_vector(path)\n",
    "print(\"global path :\",path)"
   ]
  },
  {
   "cell_type": "markdown",
   "id": "cf94e03f",
   "metadata": {},
   "source": [
    "## Local Navigation"
   ]
  },
  {
   "cell_type": "markdown",
   "id": "3547493d",
   "metadata": {},
   "source": [
    "**1. Switching between global navigation and local obstacle avoidance**</font>\n",
    "\n",
    "When we are in state 1 in global navigation we are checking continously the front proximity sensors by calling the function <code>local.update_state</code>. We have defined two threshold on the sensors values that allow to activate switches between global and local navigation.\n",
    "- A high treshold: <code>obstThrH = 3700</code>: One sensor over obstThrH switches from global State 1 to local State 2. We start by checking the middle front sensor, then the middle exterior sensors and finally the side sensors.\n",
    "\n",
    "- A low treshold: <code>obstThrL = 2500</code>: All sensors under obstThrL switch from local State 2 to global State 1"
   ]
  },
  {
   "cell_type": "markdown",
   "id": "e78bdc36",
   "metadata": {},
   "source": [
    "**2. Local navigation**\n",
    "\n",
    "In State 2 we use the **Artificial Neural Networks** algorithm to control the local obstacle avoidance. We implement memory within the ANN by taking into account our previous motor wheels commands but with a smaller weight than the sensor inputs. We have chosen the following parameters for the ANN algorithm:"
   ]
  },
  {
   "cell_type": "code",
   "execution_count": null,
   "id": "8848959f",
   "metadata": {},
   "outputs": [],
   "source": [
    "# obstacle avoidance: ANN weights\n",
    "w_l = [40,  20, -20, -20, -40,  30, -10, 8, 0]\n",
    "w_r = [-40, -20, -20,  20,  40, -10, 30, 0, 8]\n",
    "\n",
    "# Scale factors that divide sensor inputs and memory inputs\n",
    "sensor_scale = 800\n",
    "memory_scale = 20"
   ]
  },
  {
   "cell_type": "markdown",
   "id": "ee38e6a9",
   "metadata": {},
   "source": [
    "**3. Delay when switching from state 2 to state 1** \n",
    "\n",
    "After running local avoidance simulations on our map with the other modules, we have noticed that when an obstacle is on the way of the robot toward the goal the robot tends to avoid it so briefly that when it goes back to his path to the goal it returns towards the obstacle and avoids it again and so. \n",
    "To avoid this oscillation movement we added a **delay of 0.6s** when switching from local navigation to global navigation. This allows the robot to move away from the obstacle enough before going back to the goal to avoid going back to local avoidance."
   ]
  },
  {
   "cell_type": "markdown",
   "id": "ce8e705a",
   "metadata": {},
   "source": [
    " GIF LOCAL AVOIDANCE"
   ]
  },
  {
   "cell_type": "markdown",
   "id": "697e21e1",
   "metadata": {},
   "source": [
    "## Filtering"
   ]
  },
  {
   "cell_type": "markdown",
   "id": "69fc18af",
   "metadata": {},
   "source": [
    "## Motion Control"
   ]
  },
  {
   "cell_type": "markdown",
   "id": "f2e2a951",
   "metadata": {},
   "source": [
    "Thymio is a differential drive robot meaning that we can actuate each wheel separately. If we set the same speed for both wheels it results in a straight movement and setting opposite speed produce a rotation on itself. Furthermore each wheel motor command is a combination of the desired forward speed and rotation speed. "
   ]
  },
  {
   "cell_type": "markdown",
   "id": "96210522",
   "metadata": {},
   "source": [
    "We decided to use the Astolfi controller presented in class to control the motion of the robot, we had to tune three parameters: Kp which is the proportionnal controller on the distance to the next goal, Ka is the proportionnal controller on the angle to the next goal and Kb is proportionnal to Beta which is the alignement with the x axis when thymio reach the next goal. However we didn't care about Beta so we set Kb at a very low value. For kp and ka we tuned them by fixing a range of speed and computing the maximum, minimum and typical distance and angles between 2 points of the path to find the associated coefficients."
   ]
  },
  {
   "cell_type": "markdown",
   "id": "109bebe9",
   "metadata": {},
   "source": [
    "We wanted our control law to provide a smooth and continuous trajectory. Therefore, we implemented a Finite State Machine behavior consisting of 3 states. In state 1 the robot is far from the goal resulting in a huge speed that's why we decided to set a constant speed when the distance is superior to the far_theshold. When the distance is reasonable Astolfi controller is in state 2 and apply the regular control law. Finally when the robot is near the threshold (distance < thresh_close 1) \n",
    "\n",
    "ajouter diagramme cec"
   ]
  },
  {
   "cell_type": "markdown",
   "id": "491bd40b",
   "metadata": {},
   "source": [
    "# Code of the overall Project"
   ]
  },
  {
   "cell_type": "markdown",
   "id": "70e4aadd",
   "metadata": {},
   "source": [
    "# Conclusion"
   ]
  },
  {
   "cell_type": "markdown",
   "id": "ab1dc1b1",
   "metadata": {},
   "source": []
  }
 ],
 "metadata": {
  "kernelspec": {
   "display_name": "Python 3",
   "language": "python",
   "name": "python3"
  },
  "language_info": {
   "codemirror_mode": {
    "name": "ipython",
    "version": 3
   },
   "file_extension": ".py",
   "mimetype": "text/x-python",
   "name": "python",
   "nbconvert_exporter": "python",
   "pygments_lexer": "ipython3",
   "version": "3.8.8"
  }
 },
 "nbformat": 4,
 "nbformat_minor": 5
}
