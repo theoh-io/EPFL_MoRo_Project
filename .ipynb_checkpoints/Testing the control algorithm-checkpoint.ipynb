{
 "cells": [
  {
   "cell_type": "code",
   "execution_count": 1,
   "metadata": {},
   "outputs": [
    {
     "data": {
      "text/plain": [
       "Node 04d77dce-f5d6-490f-8ba3-71c4128a70e2"
      ]
     },
     "execution_count": 1,
     "metadata": {},
     "output_type": "execute_result"
    }
   ],
   "source": [
    "#lancer la communication asynchrone avec thymio\n",
    "from tdmclient import ClientAsync, aw\n",
    "client = ClientAsync()\n",
    "node = await client.wait_for_node()\n",
    "await node.lock()\n",
    "\n",
    "#vérifier d'avoir installer pyserial\n",
    "\n",
    "\n",
    "\n"
   ]
  },
  {
   "cell_type": "code",
   "execution_count": 32,
   "metadata": {},
   "outputs": [],
   "source": [
    "import time\n",
    "import numpy as np\n",
    "#inputs\n",
    "#from global nav\n",
    "next_point=(1.00,1.00)\n",
    "#from filter\n",
    "actual_point=(0.00,0.00)\n",
    "actual_angle=0.00\n",
    "\n",
    "#needed variables definition\n",
    "#translation: speed approx 20cm/s, need to know the coefficient linking coordinates to meters\n",
    "coeff_dist=1\n",
    "run_speed=100\n",
    "coeff_speed=21.73913043478261\n",
    "#rotation\n",
    "#rot_coeff=\n",
    "rot_speed=100\n",
    "coeff_rotspeed=1\n",
    "\n",
    "#motion functions\n",
    "def forward(next,actual):\n",
    "    dist=np.sqrt(np.sum(np.square(next-actual)))\n",
    "    forward_time=(dist*coeff_dist)/(run_speed*coeff_speed)\n",
    "    motor_left_target=run_speed\n",
    "    motor.right.target=run_speed\n",
    "    time.sleep(forward_time)\n",
    "    stopmotors()\n",
    "\n",
    "#can be optimised in order to choose which rotation direction is the shortest\n",
    "def turn(next,actual,actual_angle):\n",
    "    global node\n",
    "    direction=np.subtract(next,actual)\n",
    "    new_angle=np.arctan2(direction[0],direction[1])\n",
    "    \"\"\"\"\n",
    "    if((direction[0])and(not direction[1])):\n",
    "        new_angle=np.arctan2(direction,(0,0))[0]\n",
    "    elif((not direction[0])and(not direction[1])):\n",
    "        new_angle=np.arctan2(direction,(0,0))[1]\n",
    "    elif(direction[0] and direction[1]):\n",
    "        new_angle=np.arctan2(direction,(0,0))[2]\n",
    "    elif((not direction[0])and(direction[1])):\n",
    "        new_angle=np.arctan2(direction,(0,0))[3]\n",
    "    \"\"\"\n",
    "    angle_diff=new_angle-actual_angle #in radians\n",
    "    angle_diff=np.degrees(angle_diff)\n",
    "    rot_time=(angle_diff)/(rot_speed*coeff_rotspeed)\n",
    "    if(angle_diff>0):\n",
    "        print(\"rot\")\n",
    "        v = {\n",
    "        \"motor.left.target\": [2**16-rot_speed],\n",
    "        \"motor.right.target\": [rot_speed],\n",
    "        }\n",
    "        aw(node.set_variables(v))\n",
    "        time.sleep(rot_time)\n",
    "        #left=2**16-rot_speed\n",
    "        #right=rot_speed\n",
    "    elif(angle_diff<0):\n",
    "        v = {\n",
    "        \"motor.left.target\": [rot_speed],\n",
    "        \"motor.right.target\": [2**16-rot_speed],\n",
    "        }\n",
    "        aw(node.set_variables(v))\n",
    "        time.sleep(2)\n",
    "        #left=rot_speed\n",
    "        #right=2**16-rot_speed\n",
    "    stopmotors()\n",
    "\n",
    "def stopmotors():\n",
    "    global node\n",
    "    print(\"stop\")\n",
    "    v = {\n",
    "        \"motor.left.target\": [0],\n",
    "        \"motor.right.target\": [0],\n",
    "        }\n",
    "    aw(node.set_variables(v))\n",
    "    #time.sleep(0.1)"
   ]
  },
  {
   "cell_type": "code",
   "execution_count": 35,
   "metadata": {},
   "outputs": [],
   "source": [
    "f = {\n",
    "        \"motor.left.target\": [100],\n",
    "        \"motor.right.target\": [100],\n",
    "        }\n",
    "aw(node.set_variables(f))\n"
   ]
  },
  {
   "cell_type": "code",
   "execution_count": 36,
   "metadata": {},
   "outputs": [
    {
     "name": "stdout",
     "output_type": "stream",
     "text": [
      "stop\n"
     ]
    }
   ],
   "source": [
    "#turn(next_point,actual_point,0)\n",
    "#turn(next_point,actual_point,0)\n",
    "stopmotors()\n",
    "time.sleep(0.1)"
   ]
  },
  {
   "cell_type": "code",
   "execution_count": 31,
   "metadata": {},
   "outputs": [],
   "source": [
    "v = {\n",
    "        \"motor.left.target\": [0],\n",
    "        \"motor.right.target\": [0],\n",
    "    }\n",
    "aw(node.set_variables(v))"
   ]
  },
  {
   "cell_type": "code",
   "execution_count": null,
   "metadata": {},
   "outputs": [],
   "source": []
  }
 ],
 "metadata": {
  "kernelspec": {
   "display_name": "Python 3",
   "language": "python",
   "name": "python3"
  },
  "language_info": {
   "codemirror_mode": {
    "name": "ipython",
    "version": 3
   },
   "file_extension": ".py",
   "mimetype": "text/x-python",
   "name": "python",
   "nbconvert_exporter": "python",
   "pygments_lexer": "ipython3",
   "version": "3.8.5"
  }
 },
 "nbformat": 4,
 "nbformat_minor": 4
}
