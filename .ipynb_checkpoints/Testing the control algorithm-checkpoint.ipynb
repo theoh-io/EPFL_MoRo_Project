{
 "cells": [
  {
   "cell_type": "code",
   "execution_count": 1,
   "metadata": {},
   "outputs": [
    {
     "data": {
      "text/plain": [
       "Node 04d77dce-f5d6-490f-8ba3-71c4128a70e2"
      ]
     },
     "execution_count": 1,
     "metadata": {},
     "output_type": "execute_result"
    }
   ],
   "source": [
    "\"\"\"\n",
    "from tdmclient import ClientAsync\n",
    "client = ClientAsync()\n",
    "node = await client.wait_for_node()\n",
    "await node.lock()\n",
    "\"\"\"\n",
    "import time\n",
    "import numpy as np\n",
    "from Thymio import Thymio\n",
    "\n",
    "# By Cable\n",
    "th = Thymio.serial(port=\"COM4\", refreshing_rate=0.1)\n",
    "# By Wireless\n",
    "#th = Thymio.serial(port=\"\\\\.\\COM5\", refreshing_rate=0.1)\n",
    "#dir(th)"
   ]
  },
  {
   "cell_type": "code",
   "execution_count": 24,
   "metadata": {},
   "outputs": [],
   "source": [
    "#import needed\n",
    "\n",
    "\n",
    "#inputs\n",
    "#from global nav\n",
    "next_point=(1.00,1.00)\n",
    "#from filter\n",
    "actual_point=(0.00,0.00)\n",
    "actual_angle=0.00\n",
    "\n",
    "#needed variables definition\n",
    "#translation: speed approx 20cm/s, need to know the coefficient linking coordinates to meters\n",
    "coeff_dist=1\n",
    "run_speed=100\n",
    "coeff_speed=21.73913043478261\n",
    "#rotation\n",
    "#rot_coeff=\n",
    "rot_speed=100\n",
    "coeff_rotspeed=1\n",
    "\n",
    "#motion functions\n",
    "def forward(next,actual):\n",
    "    dist=np.sqrt(np.sum(np.square(next-actual)))\n",
    "    forward_time=(dist*coeff_dist)/(run_speed*coeff_speed)\n",
    "    th.set_var(\"motor.left.target\",run_speed)\n",
    "    th.set_var(\"motor.right.target\",run_speed)\n",
    "    time.sleep(forward_time)\n",
    "    stopmotors()\n",
    "\n",
    "#can be optimised in order to choose which rotation direction is the shortest\n",
    "def turn(next,actual,actual_angle):\n",
    "    direction=np.subtract(next,actual)\n",
    "    new_angle=np.arctan2(direction[0],direction[1])\n",
    "    \"\"\"\"\n",
    "    if((direction[0])and(not direction[1])):\n",
    "        new_angle=np.arctan2(direction,(0,0))[0]\n",
    "    elif((not direction[0])and(not direction[1])):\n",
    "        new_angle=np.arctan2(direction,(0,0))[1]\n",
    "    elif(direction[0] and direction[1]):\n",
    "        new_angle=np.arctan2(direction,(0,0))[2]\n",
    "    elif((not direction[0])and(direction[1])):\n",
    "        new_angle=np.arctan2(direction,(0,0))[3]\n",
    "    \"\"\"\n",
    "    \n",
    "    angle_diff=new_angle-actual_angle #in radians\n",
    "    rot_time=(angle_diff)/(rot_speed*coeff_rotspeed)\n",
    "    if(angle_diff>0):\n",
    "        th.set_var(\"motor.left.target\",2**16-rot_speed)\n",
    "        th.set_var(\"motor.right.target\",rot_speed)\n",
    "    elif(angle_diff<0):\n",
    "        th.set_var(\"motor.left.target\",rot_speed)\n",
    "        th.set_var(\"motor.right.target\",2**16-rot_speed)\n",
    "    time.sleep(rot_time)\n",
    "    stopmotors()\n",
    "\n",
    "def stopmotors():\n",
    "    th.set_var(\"motor.left.target\", 0)\n",
    "    th.set_var(\"motor.right.target\", 0)"
   ]
  },
  {
   "cell_type": "code",
   "execution_count": 25,
   "metadata": {},
   "outputs": [
    {
     "ename": "NameError",
     "evalue": "name 'th' is not defined",
     "output_type": "error",
     "traceback": [
      "\u001b[1;31m---------------------------------------------------------------------------\u001b[0m",
      "\u001b[1;31mNameError\u001b[0m                                 Traceback (most recent call last)",
      "\u001b[1;32m<ipython-input-25-92befa0a6562>\u001b[0m in \u001b[0;36m<module>\u001b[1;34m\u001b[0m\n\u001b[1;32m----> 1\u001b[1;33m \u001b[0mturn\u001b[0m\u001b[1;33m(\u001b[0m\u001b[0mnext_point\u001b[0m\u001b[1;33m,\u001b[0m\u001b[0mactual_point\u001b[0m\u001b[1;33m,\u001b[0m\u001b[1;36m0\u001b[0m\u001b[1;33m)\u001b[0m\u001b[1;33m\u001b[0m\u001b[1;33m\u001b[0m\u001b[0m\n\u001b[0m",
      "\u001b[1;32m<ipython-input-24-6644cc60f42a>\u001b[0m in \u001b[0;36mturn\u001b[1;34m(next, actual, actual_angle)\u001b[0m\n\u001b[0;32m     48\u001b[0m     \u001b[0mrot_time\u001b[0m\u001b[1;33m=\u001b[0m\u001b[1;33m(\u001b[0m\u001b[0mangle_diff\u001b[0m\u001b[1;33m)\u001b[0m\u001b[1;33m/\u001b[0m\u001b[1;33m(\u001b[0m\u001b[0mrot_speed\u001b[0m\u001b[1;33m*\u001b[0m\u001b[0mcoeff_rotspeed\u001b[0m\u001b[1;33m)\u001b[0m\u001b[1;33m\u001b[0m\u001b[1;33m\u001b[0m\u001b[0m\n\u001b[0;32m     49\u001b[0m     \u001b[1;32mif\u001b[0m\u001b[1;33m(\u001b[0m\u001b[0mangle_diff\u001b[0m\u001b[1;33m>\u001b[0m\u001b[1;36m0\u001b[0m\u001b[1;33m)\u001b[0m\u001b[1;33m:\u001b[0m\u001b[1;33m\u001b[0m\u001b[1;33m\u001b[0m\u001b[0m\n\u001b[1;32m---> 50\u001b[1;33m         \u001b[0mth\u001b[0m\u001b[1;33m.\u001b[0m\u001b[0mset_var\u001b[0m\u001b[1;33m(\u001b[0m\u001b[1;34m\"motor.left.target\"\u001b[0m\u001b[1;33m,\u001b[0m\u001b[1;36m2\u001b[0m\u001b[1;33m**\u001b[0m\u001b[1;36m16\u001b[0m\u001b[1;33m-\u001b[0m\u001b[0mrot_speed\u001b[0m\u001b[1;33m)\u001b[0m\u001b[1;33m\u001b[0m\u001b[1;33m\u001b[0m\u001b[0m\n\u001b[0m\u001b[0;32m     51\u001b[0m         \u001b[0mth\u001b[0m\u001b[1;33m.\u001b[0m\u001b[0mset_var\u001b[0m\u001b[1;33m(\u001b[0m\u001b[1;34m\"motor.right.target\"\u001b[0m\u001b[1;33m,\u001b[0m\u001b[0mrot_speed\u001b[0m\u001b[1;33m)\u001b[0m\u001b[1;33m\u001b[0m\u001b[1;33m\u001b[0m\u001b[0m\n\u001b[0;32m     52\u001b[0m     \u001b[1;32melif\u001b[0m\u001b[1;33m(\u001b[0m\u001b[0mangle_diff\u001b[0m\u001b[1;33m<\u001b[0m\u001b[1;36m0\u001b[0m\u001b[1;33m)\u001b[0m\u001b[1;33m:\u001b[0m\u001b[1;33m\u001b[0m\u001b[1;33m\u001b[0m\u001b[0m\n",
      "\u001b[1;31mNameError\u001b[0m: name 'th' is not defined"
     ]
    }
   ],
   "source": [
    "turn(next_point,actual_point,0)"
   ]
  },
  {
   "cell_type": "code",
   "execution_count": null,
   "metadata": {},
   "outputs": [],
   "source": []
  }
 ],
 "metadata": {
  "kernelspec": {
   "display_name": "Python 3",
   "language": "python",
   "name": "python3"
  },
  "language_info": {
   "codemirror_mode": {
    "name": "ipython",
    "version": 3
   },
   "file_extension": ".py",
   "mimetype": "text/x-python",
   "name": "python",
   "nbconvert_exporter": "python",
   "pygments_lexer": "ipython3",
   "version": "3.8.5"
  }
 },
 "nbformat": 4,
 "nbformat_minor": 4
}
