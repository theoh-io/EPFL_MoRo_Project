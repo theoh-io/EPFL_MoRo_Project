{
 "cells": [
  {
   "cell_type": "markdown",
   "id": "9e9cc950",
   "metadata": {},
   "source": [
    "Boucle globale de lecture de vidéo\n",
    "\n",
    "\n",
    "state= 0\n",
    "    img_calibration\n",
    "    obstacle detection\n",
    "    start and goal\n",
    "    global_nav\n",
    "    \n",
    "state = 1\n",
    "    img_calibration\n",
    "    detect Thymio\n",
    "    astolfi ou local nav\n",
    "    \n",
    "    "
   ]
  },
  {
   "cell_type": "code",
   "execution_count": 1,
   "id": "424faf1c",
   "metadata": {},
   "outputs": [
    {
     "data": {
      "text/plain": [
       "Node eb16048f-962c-44b2-9651-cc3b67bca83b"
      ]
     },
     "execution_count": 1,
     "metadata": {},
     "output_type": "execute_result"
    }
   ],
   "source": [
    "#lancer la communication asynchrone avec thymio\n",
    "from tdmclient import ClientAsync, aw\n",
    "client = ClientAsync()\n",
    "node = await client.wait_for_node()\n",
    "await node.lock()\n",
    "\n",
    "#vérifier d'avoir installer pyserial"
   ]
  },
  {
   "cell_type": "markdown",
   "id": "31683745",
   "metadata": {},
   "source": [
    "# Initialisation"
   ]
  },
  {
   "cell_type": "code",
   "execution_count": 2,
   "id": "9d8a8ded",
   "metadata": {},
   "outputs": [],
   "source": [
    "#check each import if it's really necessary\n",
    "import cv2 \n",
    "import time\n",
    "import numpy as np\n",
    "from PIL import Image \n",
    "import math\n",
    "import matplotlib\n",
    "from matplotlib.pyplot import imshow\n",
    "from matplotlib import pyplot as plt\n",
    "\n",
    "#import from global control\n",
    "#import from glocal + control\n",
    "import pyvisgraph as vg\n",
    "import geopandas as gpd\n",
    "from geopandas import GeoSeries\n",
    "from shapely.geometry import Polygon, Point, LineString\n",
    "import time"
   ]
  },
  {
   "cell_type": "code",
   "execution_count": 3,
   "id": "c3bd16fc",
   "metadata": {},
   "outputs": [],
   "source": [
    "import Vision as vis\n",
    "import Global as glob\n",
    "import control as ctrl\n",
    "import local_nav as local\n",
    "\n",
    "# fonction et classe filtering\n",
    "from kalman_step_astolfi import kalman_step_complet\n",
    "from EKF_astolfi import ExtendedKalmanFilterAstolfi"
   ]
  },
  {
   "cell_type": "code",
   "execution_count": null,
   "id": "2f7e6604",
   "metadata": {
    "scrolled": false
   },
   "outputs": [],
   "source": [
    "#pour le test utilise une image mais en vrai relier à la caméra et temps réel\n",
    "\n",
    "cap=cv2.VideoCapture(1,cv2.CAP_DSHOW)\n",
    "\n",
    "for i in range (5):\n",
    "    _, frame = cap.read()\n",
    "    time.sleep(1)\n",
    "    print(\"frame {}\".format(i))\n",
    "\n",
    "cap.release()\n",
    "\n",
    "\n",
    "#img_final= cv2.flip(img_final, 0)\n",
    "img_final2 = cv2.cvtColor(frame, cv2.COLOR_BGR2RGB)\n",
    "corner_coord=vis.find_corners(img_final2)\n",
    "img=vis.img_calibration(img_final2,corner_coord)\n",
    "#cv2.imwrite('warpped.png', zzz)\n",
    "plt.figure()\n",
    "plt.imshow(img)\n",
    "plt.show()\n",
    "\n"
   ]
  },
  {
   "cell_type": "code",
   "execution_count": null,
   "id": "295dabc6",
   "metadata": {},
   "outputs": [],
   "source": [
    "#obstacle detection\n",
    "polygons=vis.obstacle_detection(img)\n",
    "#Start and goal detection\n",
    "start=vis.detectCircle(img,'start')\n",
    "goal=vis.detectCircle(img,'goal')"
   ]
  },
  {
   "cell_type": "code",
   "execution_count": null,
   "id": "90122b81",
   "metadata": {},
   "outputs": [],
   "source": [
    "#plot the visibility graph\n",
    "\n",
    "#a voir si on le met dedans\n",
    "margin = 35\n",
    "path=glob.global_pathplanning(start,goal,polygons,margin)\n"
   ]
  },
  {
   "cell_type": "markdown",
   "id": "3ede5201",
   "metadata": {},
   "source": [
    "# Control and navigation loop"
   ]
  },
  {
   "cell_type": "code",
   "execution_count": null,
   "id": "140474b8",
   "metadata": {},
   "outputs": [],
   "source": [
    "#cap=cv2.VideoCapture(0)"
   ]
  },
  {
   "cell_type": "code",
   "execution_count": null,
   "id": "5f53b5fb",
   "metadata": {},
   "outputs": [],
   "source": [
    "cap=cv2.VideoCapture(1,cv2.CAP_DSHOW)\n",
    "\n",
    "for i in range (5):\n",
    "    _, frame = cap.read()\n",
    "    time.sleep(1)\n",
    "    print(\"frame {}\".format(i))\n",
    "\n",
    "cap.release()\n",
    "    \n",
    "#frame=vis.img_calibration(frame)\n",
    "    \n",
    "plt.figure()\n",
    "plt.imshow(frame)\n",
    "plt.show()"
   ]
  },
  {
   "cell_type": "code",
   "execution_count": null,
   "id": "1918e650",
   "metadata": {},
   "outputs": [],
   "source": [
    "#img_final = cv2.imread(frame)\n",
    "img = cv2.cvtColor(frame, cv2.COLOR_BGR2RGB)\n",
    "#img= cv2.flip(img, 0)\n",
    "final=vis.img_calibration(img)\n",
    "plt.figure()\n",
    "plt.imshow(final)\n",
    "plt.show()"
   ]
  },
  {
   "cell_type": "code",
   "execution_count": 4,
   "id": "4eb48352",
   "metadata": {},
   "outputs": [],
   "source": [
    "def initialisation(pic):\n",
    "    #obstacle detection\n",
    "    polygons=vis.obstacle_detection(pic)\n",
    "    #Start and goal detection\n",
    "    start=vis.detectCircle(pic,'start')\n",
    "    goal=vis.detectCircle(pic,'goal')\n",
    "    init=[start,goal,polygons]\n",
    "    return init\n",
    "\n"
   ]
  },
  {
   "cell_type": "code",
   "execution_count": 5,
   "id": "3d15a6b6",
   "metadata": {},
   "outputs": [],
   "source": [
    "def printThymio(posThym, coordThym):\n",
    "    coordThym.append((round(pos_thym[0]),round(pos_thym[1]))) #pos_thym = [x,y]\n",
    "    for i in range(0,len(coordThym)):\n",
    "        cv2.circle(final,(int(coordThym[i][0]),int(coordThym[i][1])), int(3), (0,255,255), 2)"
   ]
  },
  {
   "cell_type": "code",
   "execution_count": 6,
   "id": "471976ca",
   "metadata": {},
   "outputs": [],
   "source": [
    "def printThymioKalm(posThym, coordThym):    #la couleur de la trace change\n",
    "    coordThym.append((round(pos_thym[0]),round(pos_thym[1]))) #pos_thym = [x,y]\n",
    "    for i in range(0,len(coordThym)):\n",
    "        cv2.circle(final,(int(coordThym[i][0]),int(coordThym[i][1])), int(3), (0,0,255), 2)"
   ]
  },
  {
   "cell_type": "code",
   "execution_count": 7,
   "id": "100e4a18",
   "metadata": {},
   "outputs": [],
   "source": [
    "#convertir frame to real => mm/s vitesse et position\n",
    "\n",
    "#coefficients for the Astolfi controller (distances in millimeter)\n",
    "r=22\n",
    "l=48 \n",
    "kp=25  #2 #>0\n",
    "ka=50  #must be > kp\n",
    "kb=-0.0001 #<0\n",
    "\n",
    "#coeff_commtoreal=0,38\n",
    "\n",
    "#astolfi return to iterate on the next goal from the path list\n",
    "\n",
    "def astolfi(actual_pos, goal_pos, actual_angle, node):\n",
    "    #déplacer les variables à l'extérieur dans control\n",
    "    switch_next=0\n",
    "    thresh_close2=10\n",
    "    thresh_close1=75\n",
    "    comm_sat_min=100\n",
    "    comm_sat_max=250\n",
    "    \n",
    "    delta=np.subtract(goal_pos,actual_pos)\n",
    "    pho=np.sqrt(np.sum(np.square(delta)))\n",
    "    alpha=-np.radians(actual_angle) + np.arctan2(-delta[1],delta[0])\n",
    "    beta=-actual_angle-alpha\n",
    "    v=kp*pho\n",
    "    if(pho<thresh_close1):\n",
    "        v=comm_sat_min*r\n",
    "    if(pho<thresh_close2):\n",
    "        v=0\n",
    "        switch_next=1      \n",
    "    omega=ka*alpha+kb*beta\n",
    "    #omega=0\n",
    "    right_speed=(l*omega+v)/r\n",
    "    left_speed=(v-l*omega)/r\n",
    "    left_speed=int(left_speed)\n",
    "    right_speed=int(right_speed)\n",
    "    ctrl.set_motors(left_speed, right_speed, node)\n",
    "    return switch_next"
   ]
  },
  {
   "cell_type": "code",
   "execution_count": 8,
   "id": "57f4d58f",
   "metadata": {},
   "outputs": [],
   "source": [
    "def printGlobalPath(path, img):\n",
    "    lineThickness = 3\n",
    "    for i in range(0,len(path)-1):\n",
    "        cv2.line(final, (round(path[i][0]), round(path[i][1])),(round(path[i+1][0]), round(path[i+1][1])), (0,255,0), lineThickness)"
   ]
  },
  {
   "cell_type": "code",
   "execution_count": 9,
   "id": "7b922b0f",
   "metadata": {},
   "outputs": [
    {
     "name": "stdout",
     "output_type": "stream",
     "text": [
      "frame 0\n",
      "frame 1\n",
      "frame 2\n",
      "frame 3\n",
      "frame 4\n"
     ]
    },
    {
     "name": "stderr",
     "output_type": "stream",
     "text": [
      "100%|███████████████████████████████████████████████████████████████████████████████████| 2/2 [00:00<00:00, 498.28it/s]"
     ]
    },
    {
     "name": "stdout",
     "output_type": "stream",
     "text": [
      "\n",
      "Visibility graph points:  [[Point(357.70, 255.00), Point(355.30, 391.38), Point(501.00, 393.62), Point(501.00, 255.00)], [Point(262.06, 197.00), Point(104.17, 205.09), Point(112.94, 391.00), Point(270.83, 382.91)], [Point(366.56, -29.61), Point(259.75, 60.94), Point(358.45, 164.23), Point(465.24, 71.36)]] \n",
      "\n",
      "Shortest path distance: 551.9821097739568 \n",
      "\n",
      "0    POLYGON ((357.696 255.000, 355.303 391.379, 50...\n",
      "1    POLYGON ((262.063 196.995, 104.167 205.093, 11...\n",
      "2    POLYGON ((366.559 -29.611, 259.753 60.942, 358...\n",
      "0                               POINT (64.579 270.355)\n",
      "1                              POINT (104.167 205.093)\n",
      "2                              POINT (358.447 164.228)\n",
      "3                               POINT (544.453 50.329)\n",
      "dtype: geometry \n",
      "\n",
      "path  0     POINT (64.579 270.355)\n",
      "1    POINT (104.167 205.093)\n",
      "2    POINT (358.447 164.228)\n",
      "3     POINT (544.453 50.329)\n",
      "dtype: geometry\n"
     ]
    },
    {
     "name": "stderr",
     "output_type": "stream",
     "text": [
      "\n"
     ]
    },
    {
     "ename": "TypeError",
     "evalue": "object of type 'NoneType' has no len()",
     "output_type": "error",
     "traceback": [
      "\u001b[1;31m---------------------------------------------------------------------------\u001b[0m",
      "\u001b[1;31mTypeError\u001b[0m                                 Traceback (most recent call last)",
      "\u001b[1;32m~\\AppData\\Local\\Temp/ipykernel_14944/3625839652.py\u001b[0m in \u001b[0;36m<module>\u001b[1;34m\u001b[0m\n\u001b[0;32m     73\u001b[0m         \u001b[1;31m#local avoidance\u001b[0m\u001b[1;33m\u001b[0m\u001b[1;33m\u001b[0m\u001b[1;33m\u001b[0m\u001b[0m\n\u001b[0;32m     74\u001b[0m         \u001b[1;31m# get the proximity sensors values and obstacle update\u001b[0m\u001b[1;33m\u001b[0m\u001b[1;33m\u001b[0m\u001b[1;33m\u001b[0m\u001b[0m\n\u001b[1;32m---> 75\u001b[1;33m         \u001b[0mprox_horizontal\u001b[0m \u001b[1;33m=\u001b[0m \u001b[0mctrl\u001b[0m\u001b[1;33m.\u001b[0m\u001b[0mread_prox_sensors\u001b[0m\u001b[1;33m(\u001b[0m\u001b[0mnode\u001b[0m\u001b[1;33m,\u001b[0m\u001b[0mclient\u001b[0m\u001b[1;33m)\u001b[0m\u001b[1;33m\u001b[0m\u001b[1;33m\u001b[0m\u001b[0m\n\u001b[0m\u001b[0;32m     76\u001b[0m         \u001b[0mobst\u001b[0m \u001b[1;33m=\u001b[0m \u001b[1;33m[\u001b[0m\u001b[0mprox_horizontal\u001b[0m\u001b[1;33m[\u001b[0m\u001b[1;36m0\u001b[0m\u001b[1;33m]\u001b[0m\u001b[1;33m,\u001b[0m \u001b[0mprox_horizontal\u001b[0m\u001b[1;33m[\u001b[0m\u001b[1;36m1\u001b[0m\u001b[1;33m]\u001b[0m\u001b[1;33m,\u001b[0m \u001b[0mprox_horizontal\u001b[0m\u001b[1;33m[\u001b[0m\u001b[1;36m2\u001b[0m\u001b[1;33m]\u001b[0m\u001b[1;33m,\u001b[0m \u001b[0mprox_horizontal\u001b[0m\u001b[1;33m[\u001b[0m\u001b[1;36m3\u001b[0m\u001b[1;33m]\u001b[0m\u001b[1;33m,\u001b[0m \u001b[0mprox_horizontal\u001b[0m\u001b[1;33m[\u001b[0m\u001b[1;36m4\u001b[0m\u001b[1;33m]\u001b[0m\u001b[1;33m]\u001b[0m\u001b[1;33m\u001b[0m\u001b[1;33m\u001b[0m\u001b[0m\n\u001b[0;32m     77\u001b[0m         \u001b[1;31m# update the state between state 2 and state 3\u001b[0m\u001b[1;33m\u001b[0m\u001b[1;33m\u001b[0m\u001b[1;33m\u001b[0m\u001b[0m\n",
      "\u001b[1;32m~\\Desktop\\Master Robotics\\Cours Obligatoire\\Mobile Rob\\Projet\\EPFL_MoRo_Project\\control.py\u001b[0m in \u001b[0;36mread_prox_sensors\u001b[1;34m(node, client)\u001b[0m\n\u001b[0;32m     52\u001b[0m     \u001b[0maw\u001b[0m\u001b[1;33m(\u001b[0m\u001b[0mnode\u001b[0m\u001b[1;33m.\u001b[0m\u001b[0mwait_for_variables\u001b[0m\u001b[1;33m(\u001b[0m\u001b[1;33m{\u001b[0m\u001b[1;34m\"prox.horizontal\"\u001b[0m\u001b[1;33m}\u001b[0m\u001b[1;33m)\u001b[0m\u001b[1;33m)\u001b[0m\u001b[1;33m\u001b[0m\u001b[1;33m\u001b[0m\u001b[0m\n\u001b[0;32m     53\u001b[0m     \u001b[0maw\u001b[0m\u001b[1;33m(\u001b[0m\u001b[0mclient\u001b[0m\u001b[1;33m.\u001b[0m\u001b[0msleep\u001b[0m\u001b[1;33m(\u001b[0m\u001b[1;36m0.01\u001b[0m\u001b[1;33m)\u001b[0m\u001b[1;33m)\u001b[0m\u001b[1;33m\u001b[0m\u001b[1;33m\u001b[0m\u001b[0m\n\u001b[1;32m---> 54\u001b[1;33m     \u001b[0mprox\u001b[0m\u001b[1;33m=\u001b[0m\u001b[0mnode\u001b[0m\u001b[1;33m.\u001b[0m\u001b[0mv\u001b[0m\u001b[1;33m.\u001b[0m\u001b[0mprox\u001b[0m\u001b[1;33m.\u001b[0m\u001b[0mhorizontal\u001b[0m\u001b[1;33m\u001b[0m\u001b[1;33m\u001b[0m\u001b[0m\n\u001b[0m\u001b[0;32m     55\u001b[0m     \u001b[1;32mreturn\u001b[0m \u001b[0mprox\u001b[0m\u001b[1;33m\u001b[0m\u001b[1;33m\u001b[0m\u001b[0m\n\u001b[0;32m     56\u001b[0m \u001b[1;33m\u001b[0m\u001b[0m\n",
      "\u001b[1;32m~\\anaconda3\\lib\\site-packages\\tdmclient\\clientasynccachenode.py\u001b[0m in \u001b[0;36m__getattr__\u001b[1;34m(self, key)\u001b[0m\n\u001b[0;32m     37\u001b[0m         \u001b[0mname\u001b[0m \u001b[1;33m=\u001b[0m \u001b[0mself\u001b[0m\u001b[1;33m.\u001b[0m\u001b[0mprefix\u001b[0m \u001b[1;33m+\u001b[0m \u001b[0mkey\u001b[0m\u001b[1;33m\u001b[0m\u001b[1;33m\u001b[0m\u001b[0m\n\u001b[0;32m     38\u001b[0m         \u001b[1;32mif\u001b[0m \u001b[0mname\u001b[0m \u001b[1;32min\u001b[0m \u001b[0mself\u001b[0m\u001b[1;33m.\u001b[0m\u001b[0mnode\u001b[0m\u001b[1;33m.\u001b[0m\u001b[0mvar\u001b[0m\u001b[1;33m:\u001b[0m\u001b[1;33m\u001b[0m\u001b[1;33m\u001b[0m\u001b[0m\n\u001b[1;32m---> 39\u001b[1;33m             \u001b[1;32mreturn\u001b[0m \u001b[0mself\u001b[0m\u001b[1;33m.\u001b[0m\u001b[0mnode\u001b[0m\u001b[1;33m.\u001b[0m\u001b[0m__getitem__\u001b[0m\u001b[1;33m(\u001b[0m\u001b[0mname\u001b[0m\u001b[1;33m)\u001b[0m\u001b[1;33m\u001b[0m\u001b[1;33m\u001b[0m\u001b[0m\n\u001b[0m\u001b[0;32m     40\u001b[0m         \u001b[1;32melse\u001b[0m\u001b[1;33m:\u001b[0m\u001b[1;33m\u001b[0m\u001b[1;33m\u001b[0m\u001b[0m\n\u001b[0;32m     41\u001b[0m             \u001b[1;31m# not there yet\u001b[0m\u001b[1;33m\u001b[0m\u001b[1;33m\u001b[0m\u001b[1;33m\u001b[0m\u001b[0m\n",
      "\u001b[1;32m~\\anaconda3\\lib\\site-packages\\tdmclient\\clientasynccachenode.py\u001b[0m in \u001b[0;36m__getitem__\u001b[1;34m(self, key)\u001b[0m\n\u001b[0;32m     74\u001b[0m     \u001b[1;32mdef\u001b[0m \u001b[0m__getitem__\u001b[0m\u001b[1;33m(\u001b[0m\u001b[0mself\u001b[0m\u001b[1;33m,\u001b[0m \u001b[0mkey\u001b[0m\u001b[1;33m)\u001b[0m\u001b[1;33m:\u001b[0m\u001b[1;33m\u001b[0m\u001b[1;33m\u001b[0m\u001b[0m\n\u001b[0;32m     75\u001b[0m         \u001b[0mv\u001b[0m \u001b[1;33m=\u001b[0m \u001b[0mself\u001b[0m\u001b[1;33m.\u001b[0m\u001b[0mvar\u001b[0m\u001b[1;33m[\u001b[0m\u001b[0mkey\u001b[0m\u001b[1;33m]\u001b[0m\u001b[1;33m\u001b[0m\u001b[1;33m\u001b[0m\u001b[0m\n\u001b[1;32m---> 76\u001b[1;33m         \u001b[1;32mif\u001b[0m \u001b[0mlen\u001b[0m\u001b[1;33m(\u001b[0m\u001b[0mv\u001b[0m\u001b[1;33m)\u001b[0m \u001b[1;33m==\u001b[0m \u001b[1;36m1\u001b[0m\u001b[1;33m:\u001b[0m\u001b[1;33m\u001b[0m\u001b[1;33m\u001b[0m\u001b[0m\n\u001b[0m\u001b[0;32m     77\u001b[0m             \u001b[1;31m# direct access for scalar\u001b[0m\u001b[1;33m\u001b[0m\u001b[1;33m\u001b[0m\u001b[1;33m\u001b[0m\u001b[0m\n\u001b[0;32m     78\u001b[0m             \u001b[1;32mreturn\u001b[0m \u001b[0mv\u001b[0m\u001b[1;33m[\u001b[0m\u001b[1;36m0\u001b[0m\u001b[1;33m]\u001b[0m\u001b[1;33m\u001b[0m\u001b[1;33m\u001b[0m\u001b[0m\n",
      "\u001b[1;31mTypeError\u001b[0m: object of type 'NoneType' has no len()"
     ]
    },
    {
     "data": {
      "image/png": "[encoded data removed]",
      "text/plain": [
       "<Figure size 432x288 with 1 Axes>"
      ]
     },
     "metadata": {
      "needs_background": "light"
     },
     "output_type": "display_data"
    }
   ],
   "source": [
    "cap=cv2.VideoCapture(1,cv2.CAP_DSHOW)\n",
    "for i in range (5):\n",
    "    _, frame = cap.read()\n",
    "    time.sleep(1)\n",
    "    print(\"frame {}\".format(i))\n",
    "\n",
    "#cap.release()\n",
    "#plt.figure()\n",
    "#plt.imshow(frame)\n",
    "#plt.show()\n",
    "\n",
    "#time.sleep(1)\n",
    "state=0\n",
    "margin = 40\n",
    "switch_next=0\n",
    "path_iter=1\n",
    "obst = [0,0,0,0,0]   # measurements from front prox sensors\n",
    "obstThrL = 2500      # low obstacle threshold to switch state 3->2\n",
    "obstThrL2 = 3000\n",
    "obstThrH = 3500      # high obstacle threshold to switch state 2->3  #max 4000\n",
    "y = [0,0]          # powers given to motor wheels\n",
    "\n",
    "#init des variables Kalman, et visu de la trace\n",
    "KF = ExtendedKalmanFilterAstolfi()\n",
    "KF.init_state_vector(0,0,0,0,0,0,0,0)   #xxx a rendre plus joli\n",
    "KF.set_time_stamp(time.time())\n",
    "\n",
    "sensor_package = []\n",
    "kalman_pos = []\n",
    "\n",
    "coordThym = []\n",
    "coordKalm = []\n",
    "\n",
    "while (cap.isOpened()):\n",
    "    _, frame = cap.read()\n",
    "    img = cv2.cvtColor(frame, cv2.COLOR_BGR2RGB)\n",
    "    #final=vis.img_calibration(img, corner_coord)\n",
    "    #img= cv2.flip(img, 0)\n",
    "    if(state==0):\n",
    "        corner_coord=vis.find_corners(img)\n",
    "        final=vis.img_calibration(img, corner_coord)\n",
    "        init=initialisation(final)\n",
    "        path=glob.global_pathplanning(init[0],init[1],init[2],margin)\n",
    "        state=2\n",
    "    #if state==1:\n",
    "     #   time.sleep(6)\n",
    "      #  print(\"time sleep over\")\n",
    "       # _, frame1 = cap.read()\n",
    "        #plt.figure()\n",
    "        #plt.imshow(frame1)\n",
    "        #plt.show()\n",
    "        #img1 = cv2.cvtColor(frame1, cv2.COLOR_BGR2RGB)\n",
    "        #state=2\n",
    "    if (state==2):\n",
    "        final=vis.img_calibration(img, corner_coord)\n",
    "        #plt.figure()\n",
    "        #plt.imshow(final1)\n",
    "        #plt.show()\n",
    "        pos_thym=vis.detectThymio(final)[0]\n",
    "        angle_thym=vis.directionThymio(final)\n",
    "        \n",
    "        #vit_roue_droite = ctrl.read_motors_speed(node,client)[0]#xxx droite ou gauche a verifier\n",
    "        #vit_roue_gauche = ctrl.read_motors_speed(node,client)[1]#droite ou gauche a verifier\n",
    "        #sensor_package = [pos_thym[0], pos_thym[1], angle_thym, vit_roue_droite, vit_roue_gauche]\n",
    "        #E = kalman_step_complet(sensor_package,KF)\n",
    "        #kalman_pos = [E[0], E[1]]\n",
    "        #print(\"kalman pos: {}\".format(kalman_pos[0]))\n",
    "        #angle_kalman=E[2]\n",
    "        #print(\"kalman angle: {}\".format(angle_kalman))\n",
    "        \n",
    "        switch_next=astolfi(pos_thym,path[path_iter],angle_thym,node)\n",
    "        \n",
    "        #local avoidance\n",
    "        # get the proximity sensors values and obstacle update\n",
    "        prox_horizontal = ctrl.read_prox_sensors(node,client)\n",
    "        obst = [prox_horizontal[0], prox_horizontal[1], prox_horizontal[2], prox_horizontal[3], prox_horizontal[4]]\n",
    "        # update the state between state 2 and state 3\n",
    "        state = local.update_state2(state,obstThrL,obstThrH, obst) \n",
    "        \n",
    "        if(switch_next==1):\n",
    "            path_iter=path_iter+1\n",
    "            print(\"path iter \",path_iter)\n",
    "            if(path_iter==len(path)):\n",
    "                ctrl.stopmotors(node)\n",
    "                print(\"finish\")\n",
    "                state=4\n",
    "        \n",
    "    if(state==3):\n",
    "        #print(\"local_nav\")  \n",
    "        #print(\"obstacles values\", obst)\n",
    "        y_memory = ctrl.read_motors_speed(node,client)\n",
    "        y = local.local_nav(prox_horizontal,y_memory)\n",
    "        #print(\"y \",y)\n",
    "        ctrl.set_motors(y[0],y[1],node)\n",
    "        \n",
    "        # get the proximity sensors values and obstacle update\n",
    "        prox_horizontal = ctrl.read_prox_sensors(node,client)\n",
    "        obst = [prox_horizontal[0], prox_horizontal[1], prox_horizontal[2], prox_horizontal[3], prox_horizontal[4]]\n",
    "        # update the state between state 2 and state 3\n",
    "        state = local.update_state2(state,obstThrL,obstThrH, obst)\n",
    "        \n",
    "    if state==4:\n",
    "        break\n",
    "    vis.printGlobalPath(path, final)\n",
    "   # printThymio(pos_thym, coordThym)\n",
    "    printThymioKalm(kalman_pos,coordKalm)\n",
    "    cv2.imshow(\"results\", final)\n",
    "    if cv2.waitKey(1) & 0xFF ==ord('q'):\n",
    "        break\n",
    "        \n",
    "cap.release()\n",
    "#cv2.destroyAllWindows()"
   ]
  },
  {
   "cell_type": "code",
   "execution_count": null,
   "id": "6a9fa1cb",
   "metadata": {},
   "outputs": [],
   "source": [
    "print(\"kalman pos: \",kalman_pos)\n",
    "print(\"kalman pos: \", np.asarray(kalman_pos[0][0]))\n",
    "print(\"kalman pos: \", np.squeeze(np.asarray(kalman_pos))[0])"
   ]
  },
  {
   "cell_type": "code",
   "execution_count": 10,
   "id": "478db420",
   "metadata": {},
   "outputs": [],
   "source": [
    "ctrl.stopmotors(node)"
   ]
  },
  {
   "cell_type": "code",
   "execution_count": null,
   "id": "7d253564",
   "metadata": {},
   "outputs": [],
   "source": [
    "test=[[None,None],[None,None]]\n",
    "if bool(not test[0][0]):\n",
    "    print(\"zeub\")"
   ]
  },
  {
   "cell_type": "code",
   "execution_count": null,
   "id": "60fa4cfb",
   "metadata": {},
   "outputs": [],
   "source": [
    "def detectThymio(imgRGB):\n",
    "    pts=[]\n",
    "    #p1 is the big circle and p2 the little\n",
    "    p1=[]\n",
    "    p2=[]\n",
    "    lower=np.array([10,30,30])\n",
    "    upper=np.array([40,255,255])\n",
    "    nb_iterations=1\n",
    "    img_hsv = cv2.cvtColor(imgRGB, cv2.COLOR_RGB2HSV)\n",
    "    mask = cv2.inRange(img_hsv, lower, upper)\n",
    "    img_hsv = cv2.blur(img_hsv,(7,7))\n",
    "    mask = cv2.erode(mask, None, iterations = nb_iterations)\n",
    "    mask = cv2.dilate(mask, None, iterations = nb_iterations)\n",
    "    elements,_ = cv2.findContours(mask, cv2.RETR_TREE, cv2.CHAIN_APPROX_SIMPLE)\n",
    "    print(len(elements))\n",
    "    if len(elements) > 0:\n",
    "        #sorting the detected contours by descending area size\n",
    "        elements.sort(key=cv2.contourArea, reverse=True)\n",
    "        #finding big circle\n",
    "        c=elements[0]\n",
    "        ((x,y),rayon) = cv2.minEnclosingCircle(c)\n",
    "        #finding little circle\n",
    "        c2=elements[1]\n",
    "        ((x2,y2),rayon2) = cv2.minEnclosingCircle(c2)\n",
    "        p1=[x,y]\n",
    "        p2=[x2,y2]\n",
    "        pts=[p1,p2]\n",
    "    return pts\n",
    "\n",
    "#print(detectThymio(final))\n",
    "frame = cv2.cvtColor(frame, cv2.COLOR_BGR2RGB)\n",
    "corner_coord=vis.find_corners(frame)\n",
    "final=vis.img_calibration(frame, corner_coord)\n",
    "print(detectThymio(final)[0])"
   ]
  },
  {
   "cell_type": "code",
   "execution_count": null,
   "id": "3407f631",
   "metadata": {},
   "outputs": [],
   "source": [
    "print(init)"
   ]
  },
  {
   "cell_type": "code",
   "execution_count": null,
   "id": "6be2cdbb",
   "metadata": {},
   "outputs": [],
   "source": [
    "# Navigation initialisation\n",
    "checkp=1           # goal checkpoint\n",
    "actual_angle=0     # angle to xy axis\n",
    "y = [0,0]          # powers given to motor wheels\n",
    "\n",
    "# FSM initialisation\n",
    "state = 2          # States FSM 0=global nav, 1=local nav\n",
    "obst = [0,0,0,0,0]   # measurements from front prox sensors\n",
    "obstThrL = 2500      # low obstacle threshold to switch state 3->2\n",
    "obstThrL2 = 3000\n",
    "obstThrH = 3500      # high obstacle threshold to switch state 2->3 \n",
    "\n",
    "def update_state(state,obstThrL,obstThrH, obst):\n",
    "    if state == 2: \n",
    "        # switch from goal tracking to obst avoidance if obstacle detected\n",
    "        if (obst[2] > obstThrH):\n",
    "            state = 3\n",
    "            print(\"change state to local\")\n",
    "        elif (obst[1] > obstThrH):\n",
    "            state = 3\n",
    "            print(\"change state to local\")\n",
    "        elif (obst[3] > obstThrH):\n",
    "            state = 3\n",
    "            print(\"change state to local\")\n",
    "        elif (obst[0] > obstThrH):\n",
    "            state = 3\n",
    "            print(\"change state to local\")\n",
    "        elif (obst[4] > obstThrH):\n",
    "            state = 3\n",
    "            print(\"change state to local\")\n",
    "    elif state == 3:\n",
    "        if obst[2] < obstThrL:\n",
    "            if obst[1] < obstThrL:\n",
    "                if obst[3] < obstThrL:\n",
    "                    if obst[0] < obstThrL:\n",
    "                        if obst[4] < obstThrL:\n",
    "                            # switch from obst avoidance to goal tracking if obstacle got unseen\n",
    "                            state = 2\n",
    "                            print(\"change state to global\")\n",
    "    return state\n",
    "\n",
    "while True:\n",
    "    \n",
    "    # get the proximity sensors values and obstacle update\n",
    "    prox_horizontal = ctrl.read_prox_sensors(node,client)\n",
    "    obst = [prox_horizontal[0], prox_horizontal[1], prox_horizontal[2], prox_horizontal[3], prox_horizontal[4]]\n",
    "    \n",
    "    # update the state and speed motors values\n",
    "    state = update_state(state,obstThrL,obstThrH, obst)\n",
    "    y = ctrl.read_motors_speed(node,client)\n",
    "    \n",
    "    print(\"state\", state)\n",
    "\n",
    "    if state == 2:\n",
    "        \n",
    "        \"\"\"\n",
    "        # With positon estimation when vision and/or kalman ready\n",
    "        \n",
    "        actual,angle = getting_vis()\n",
    "        pred_pos,pred_angle = kalman(actual, angle)\n",
    "        \n",
    "        actual_pos=pred_pos\n",
    "        actual_angle=pred_angle\n",
    "        \n",
    "        if actual_pos == checkpoints[checkp]: # other option: if (actual_pos - checkpoints[checkp]) < error\n",
    "            checkp=checkp+1\n",
    "        goal_pos=checkpoints[checkp]\n",
    "        \n",
    "        y = ctrl.astolfi2(actual_pos, goal_pos, actual_angle, node)\n",
    "        \n",
    "        \"\"\"\n",
    "        y = [100,100]\n",
    "        ctrl.set_motors(y[0],y[1],node)\n",
    "\n",
    "    elif state == 3:\n",
    "        print(\"obstacles values\", obst)\n",
    "        y = local.local_nav(prox_horizontal,y)\n",
    "        print(\"y \",y)\n",
    "        ctrl.set_motors(y[0],y[1],node)\n",
    "\n",
    "ctrl.stopmotors(node)"
   ]
  },
  {
   "cell_type": "code",
   "execution_count": null,
   "id": "af68d780",
   "metadata": {},
   "outputs": [],
   "source": [
    "ctrl.stopmotors(node)"
   ]
  },
  {
   "cell_type": "code",
   "execution_count": null,
   "id": "704ede23",
   "metadata": {},
   "outputs": [],
   "source": []
  }
 ],
 "metadata": {
  "kernelspec": {
   "display_name": "Python 3 (ipykernel)",
   "language": "python",
   "name": "python3"
  },
  "language_info": {
   "codemirror_mode": {
    "name": "ipython",
    "version": 3
   },
   "file_extension": ".py",
   "mimetype": "text/x-python",
   "name": "python",
   "nbconvert_exporter": "python",
   "pygments_lexer": "ipython3",
   "version": "3.8.12"
  }
 },
 "nbformat": 4,
 "nbformat_minor": 5
}
