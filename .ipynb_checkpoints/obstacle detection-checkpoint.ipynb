{
 "cells": [
  {
   "cell_type": "code",
   "execution_count": 1,
   "id": "8a32cfbb-199f-4aa8-9443-758e161caf4d",
   "metadata": {},
   "outputs": [
    {
     "name": "stdout",
     "output_type": "stream",
     "text": [
      "[[[   0    0]]\n",
      "\n",
      " [[   0 1079]]\n",
      "\n",
      " [[1919 1079]]\n",
      "\n",
      " [[1919    0]]]\n",
      "[[[418 639]]\n",
      "\n",
      " [[758 640]]\n",
      "\n",
      " [[757 986]]\n",
      "\n",
      " [[417 985]]]\n",
      "[[[ 942  599]]\n",
      "\n",
      " [[1175  598]]\n",
      "\n",
      " [[1176  822]]\n",
      "\n",
      " [[ 943  823]]]\n",
      "[[[564 274]]\n",
      "\n",
      " [[797 273]]\n",
      "\n",
      " [[798 496]]\n",
      "\n",
      " [[565 497]]]\n",
      "[[[ 942  158]]\n",
      "\n",
      " [[1175  157]]\n",
      "\n",
      " [[1176  380]]\n",
      "\n",
      " [[ 943  381]]]\n",
      "[]\n"
     ]
    },
    {
     "data": {
      "image/png": "[encoded data removed]",
      "text/plain": [
       "<Figure size 432x288 with 1 Axes>"
      ]
     },
     "metadata": {
      "needs_background": "light"
     },
     "output_type": "display_data"
    }
   ],
   "source": [
    "# Python code to detect an arrow (seven-sided shape) from an image.\n",
    "import numpy as np\n",
    "import cv2\n",
    "from PIL import Image \n",
    "import math\n",
    "import matplotlib\n",
    "from matplotlib.pyplot import imshow\n",
    "from matplotlib import pyplot as plt\n",
    "   \n",
    "# Reading image\n",
    "img2 = cv2.imread('obs.png', cv2.IMREAD_COLOR)\n",
    "   \n",
    "# Reading same image in another variable and \n",
    "# converting to gray scale.\n",
    "img = cv2.imread('obs.png', cv2.IMREAD_GRAYSCALE)\n",
    "   \n",
    "# Converting image to a binary image \n",
    "# (black and white only image).\n",
    "_,threshold = cv2.threshold(img, 110, 255, \n",
    "                            cv2.THRESH_BINARY)\n",
    "   \n",
    "# Detecting shapes in image by selecting region \n",
    "# with same colors or intensity.\n",
    "contours,_=cv2.findContours(threshold, cv2.RETR_TREE,\n",
    "                            cv2.CHAIN_APPROX_SIMPLE)\n",
    "polygons = []\n",
    "   \n",
    "# Searching through every region selected to \n",
    "# find the required polygon.\n",
    "for cnt in contours :\n",
    "    area = cv2.contourArea(cnt)\n",
    "   \n",
    "    # Shortlisting the regions based on there area.\n",
    "    if area > 400: \n",
    "        approx = cv2.approxPolyDP(cnt, \n",
    "                                  0.009 * cv2.arcLength(cnt, True), True)\n",
    "        print(approx)\n",
    "   \n",
    "        # Checking if the no. of sides of the selected region is 7.\n",
    "        if(len(approx) == 4): \n",
    "            cv2.drawContours(img2, [approx], 0, (0, 0, 255), 5)\n",
    "            \n",
    "# Showing the image along with outlined arrow.\n",
    "cv2.imshow('image2', img2) \n",
    "cv2.imwrite('lignes_red.png', img2)\n",
    "   \n",
    "# Exiting the window if 'q' is pressed on the keyboard.\n",
    "#if cv2.waitKey(0) & 0xFF == ord('q'): \n",
    "#    cv2.destroyAllWindows()\n",
    "plt.imshow(img2)\n",
    "print(polygons)"
   ]
  },
  {
   "cell_type": "code",
   "execution_count": 3,
   "id": "19be8b5b-5cc8-4de9-a399-76bc7a5a9481",
   "metadata": {},
   "outputs": [
    {
     "data": {
      "text/plain": [
       "True"
      ]
     },
     "execution_count": 3,
     "metadata": {},
     "output_type": "execute_result"
    },
    {
     "data": {
      "image/png": "[encoded data removed]",
      "text/plain": [
       "<Figure size 432x288 with 1 Axes>"
      ]
     },
     "metadata": {
      "needs_background": "light"
     },
     "output_type": "display_data"
    }
   ],
   "source": [
    "red = np.uint8([[[255,0,0 ]]])\n",
    "hsv_red = cv2.cvtColor(red,cv2.COLOR_BGR2HSV)\n",
    "\n",
    "img_hsv = cv2.cvtColor(img2, cv2.COLOR_BGR2HSV)\n",
    "\n",
    "# lower mask (0-10)\n",
    "lower_red = np.array([0,50,50])\n",
    "upper_red = np.array([10,255,255])\n",
    "mask0 = cv2.inRange(img_hsv, lower_red, upper_red)\n",
    "\n",
    "# upper mask (170-180)\n",
    "lower_red = np.array([170,50,50])\n",
    "upper_red = np.array([180,255,255])\n",
    "mask1 = cv2.inRange(img_hsv, lower_red, upper_red)\n",
    "\n",
    "# join my masks\n",
    "mask = mask0+mask1\n",
    "\n",
    "# set my output img to zero everywhere except my mask\n",
    "output_img = img2.copy()\n",
    "output_img[np.where(mask==0)] = 0\n",
    "\n",
    "# or your HSV image, which I *believe* is what you want\n",
    "output_hsv = img_hsv.copy()\n",
    "output_hsv[np.where(mask==0)] = 0\n",
    "\n",
    "plt.imshow(output_hsv)\n",
    "cv2.imwrite('lignes.png', output_hsv)\n",
    "#cv.waitKey(0)\n",
    "#cv.destroyAllWindows()"
   ]
  },
  {
   "cell_type": "code",
   "execution_count": 13,
   "id": "f6c29215-7f96-4e32-9396-7e1f4e6e9899",
   "metadata": {},
   "outputs": [
    {
     "name": "stdout",
     "output_type": "stream",
     "text": [
      "corner x 797 y 274\n",
      "corner x 565 y 274\n",
      "corner x 1175 y 380\n",
      "corner x 943 y 380\n",
      "corner x 418 y 640\n",
      "corner x 418 y 985\n",
      "corner x 1174 y 821\n",
      "corner x 943 y 158\n",
      "corner x 1175 y 158\n",
      "corner x 1174 y 600\n",
      "corner x 565 y 496\n",
      "corner x 797 y 496\n",
      "corner x 943 y 600\n",
      "corner x 756 y 985\n",
      "corner x 756 y 640\n",
      "corner x 943 y 822\n"
     ]
    },
    {
     "data": {
      "image/png": "[encoded data removed]",
      "text/plain": [
       "<Figure size 432x288 with 1 Axes>"
      ]
     },
     "metadata": {
      "needs_background": "light"
     },
     "output_type": "display_data"
    },
    {
     "data": {
      "text/plain": [
       "(<matplotlib.image.AxesImage at 0x7fde42244430>, None)"
      ]
     },
     "execution_count": 13,
     "metadata": {},
     "output_type": "execute_result"
    }
   ],
   "source": [
    "# read the image\n",
    "obsdetect = cv2.imread('obs.png')\n",
    "  \n",
    "# convert image to gray scale image\n",
    "gray = cv2.cvtColor(obsdetect, cv2.COLOR_BGR2GRAY)\n",
    "  \n",
    "# detect corners with the goodFeaturesToTrack function.\n",
    "corners = cv2.goodFeaturesToTrack(gray, 27, 0.01, 10)\n",
    "corners = np.int0(corners)\n",
    "  \n",
    "# we iterate through each corner, \n",
    "# making a circle at each point that we think is a corner.\n",
    "for i in corners:\n",
    "    \n",
    "    x, y = i.ravel()\n",
    "    print(f'corner x {x} y {y}')\n",
    "    cv2.circle(obsdetect, (x, y), 1, 255, 10)\n",
    "  \n",
    "plt.imshow(obsdetect), plt.show()"
   ]
  },
  {
   "cell_type": "code",
   "execution_count": 20,
   "id": "9bbf7c20-53fe-48f2-b12c-d958d9d98b85",
   "metadata": {},
   "outputs": [
    {
     "name": "stdout",
     "output_type": "stream",
     "text": [
      "[[0, 0, 0, 1079, 1919, 1079, 1919, 0], [417, 640, 418, 639, 757, 639, 758, 640, 758, 985, 757, 986, 418, 986, 417, 985], [942, 599, 943, 598, 1175, 598, 1176, 599, 1176, 822, 1175, 823, 943, 823, 942, 822], [564, 274, 565, 273, 797, 273, 798, 274, 798, 496, 797, 497, 565, 497, 564, 496], [942, 158, 943, 157, 1175, 157, 1176, 158, 1176, 380, 1175, 381, 943, 381, 942, 380]]\n"
     ]
    }
   ],
   "source": [
    "#https://stackoverflow.com/questions/58884265/python-convert-binary-mask-to-polygon\n",
    "# open CV et geo pandas\n",
    "\n",
    "contours,_=cv2.findContours(threshold, cv2.RETR_TREE,\n",
    "                            cv2.CHAIN_APPROX_SIMPLE)\n",
    "polygons = []\n",
    "   \n",
    "\n",
    "for object in contours:\n",
    "    coords = []\n",
    "        \n",
    "    for point in object:\n",
    "        coords.append(int(point[0][0]))\n",
    "        coords.append(int(point[0][1]))\n",
    "\n",
    "    polygons.append(coords)\n",
    "    \n",
    "print(polygons)\n",
    "    "
   ]
  },
  {
   "cell_type": "code",
   "execution_count": null,
   "id": "c90334cf",
   "metadata": {},
   "outputs": [],
   "source": [
    "obs_hsv = Image.open('obsdetect.png') \n",
    "(largeur, hauteur)= obs_hsv.size\n",
    "for x in range(1,largeur-1):\n",
    "     for y in range(1,hauteur-1):\n",
    "        if image_hsv.getpixel((x,y))!=(0,0,0):\n",
    "            if (image_hsv.getpixel((x-1,y))==(0,0,0)) & (image_hsv.getpixel((x,y+1))==(0,0,0)) :\n",
    "                mylistTLx.append(x)\n",
    "                mylistTLy.append(y)\n",
    "            if (image_hsv.getpixel((x+1,y))==(0,0,0)) & (image_hsv.getpixel((x,y-1))==(0,0,0)) :\n",
    "                mylistBRx.append(x)\n",
    "                mylistBRy.append(y)\n",
    "print(mylistBRx)"
   ]
  }
 ],
 "metadata": {
  "kernelspec": {
   "display_name": "Python 3 (ipykernel)",
   "language": "python",
   "name": "python3"
  },
  "language_info": {
   "codemirror_mode": {
    "name": "ipython",
    "version": 3
   },
   "file_extension": ".py",
   "mimetype": "text/x-python",
   "name": "python",
   "nbconvert_exporter": "python",
   "pygments_lexer": "ipython3",
   "version": "3.9.7"
  }
 },
 "nbformat": 4,
 "nbformat_minor": 5
}
