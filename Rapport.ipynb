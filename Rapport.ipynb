{
 "cells": [
  {
   "cell_type": "markdown",
   "id": "62449670",
   "metadata": {},
   "source": [
    "# Basics of Mobile Robotics - Final Project"
   ]
  },
  {
   "cell_type": "markdown",
   "id": "06d1c06e",
   "metadata": {},
   "source": [
    "**Students: Cécile Chavane, Yucef Grebici, Camille Guillaume, Théo Hermann**"
   ]
  },
  {
   "cell_type": "markdown",
   "id": "0e9c65a7",
   "metadata": {},
   "source": [
    "<h1>Table of Contents<span class=\"tocSkip\"></span></h1>\n",
    "\n",
    "<div class=\"toc\"><ul class=\"toc-item\">\n",
    "    <li><span><a href=\"#Introduction\" data-toc-modified-id=\">Introduction-1\"><span class=\"toc-item-num\">1&nbsp;&nbsp;</span>Introduction</a></span><ul class=\"toc-item\">\n",
    "        <li><span><a href=\"#Project-description\" data-toc-modified-id=\"Project-description-1.1\"><span class=\"toc-item-num\">1.1&nbsp;&nbsp;</span>Project description</a></span></li>\n",
    "        <li><span><a href=\"#Environment-Setup\" data-toc-modified-id=\"Environment-Setup-1.2\"><span class=\"toc-item-num\">1.2&nbsp;&nbsp;</span>Environment Setup</a></span></li>\n",
    "        <li><span><a href=\"#Libraries-Import\" data-toc-modified-id=\"Libraires-Import-1.2\"><span class=\"toc-item-num\">1.1&nbsp;&nbsp;</span>Libraries Import</a></span></li>\n",
    "        <li><span><a href=\"#Thymio COnnection\" data-toc-modified-id=\"Thymio-Connection-1.3\"><span class=\"toc-item-num\">1.1&nbsp;&nbsp;</span>Thymio Connection</a></span></li>\n",
    "        </ul></li>\n",
    "    <li><span><a href=\"#Description-of-the-modules\" data-toc-modified-id=\"Description-of-the-modules-2\"><span class=\"toc-item-num\">2&nbsp;&nbsp;</span>Description of the Modules</a></span><ul class=\"toc-item\">\n",
    "        <li><span><a href=\"#Vision\" data-toc-modified-id=\"Vision-2.1\"><span class=\"toc-item-num\">2.1&nbsp;&nbsp;</span>Vision</a></span></li>\n",
    "        <li><span><a href=\"#Global-Navigation\" data-toc-modified-id=\"Global-Navigation-2.2\"><span class=\"toc-item-num\">2.2&nbsp;&nbsp;</span>Global Navigation</a></span></li>\n",
    "        <li><span><a href=\"#Local-Navigation\" data-toc-modified-id=\"Local-Navigation-2.3\"><span class=\"toc-item-num\">2.3&nbsp;&nbsp;</span>Local Navigation</a></span></li>\n",
    "        <li><span><a href=\"#Filtering\" data-toc-modified-id=\"Filtering-2.4\"><span class=\"toc-item-num\">2.4&nbsp;&nbsp;</span>Filtering</a></span></li>\n",
    "        <li><span><a href=\"#Motion-Control\" data-toc-modified-id=\"Motion-Control-2.5\"><span class=\"toc-item-num\">2.5&nbsp;&nbsp;</span>Motion Control</a></span></li>\n",
    "        </ul></li>\n",
    "    <li><span><a href=\"#Code-of-the-overall-project\" data-toc-modified-id=\"Code-of-the-overall-project-3\"><span class=\"toc-item-num\">3&nbsp;&nbsp;</span>Code of the overall project</a></span></li>\n",
    "    <li><span><a href=\"#Conclusion\" data-toc-modified-id=\"Conclusion-4\"><span class=\"toc-item-num\">4&nbsp;&nbsp;</span>Conclusion</a></span>\n",
    "    </li></ul>\n",
    "    \n",
    "</div>"
   ]
  },
  {
   "cell_type": "markdown",
   "id": "e5f53c67",
   "metadata": {},
   "source": [
    "# Introduction\n",
    "\n",
    "## Project description \n"
   ]
  },
  {
   "cell_type": "markdown",
   "id": "cbd74ae0",
   "metadata": {},
   "source": [
    "**Guidelines:**\n",
    "\n",
    "\n",
    "**Implementation:**"
   ]
  },
  {
   "cell_type": "markdown",
   "id": "57061bde",
   "metadata": {},
   "source": [
    "## Environment  Setup"
   ]
  },
  {
   "cell_type": "markdown",
   "id": "1ad25f54",
   "metadata": {},
   "source": [
    "Description of the environment , obstacles,corners, start/goal, wireless thymio, camera position"
   ]
  },
  {
   "cell_type": "markdown",
   "id": "e2f44a9f",
   "metadata": {},
   "source": [
    "<figure>\n",
    "  <img src=\"pics/environment.jpeg\" width=\"500\" alt=\"Environment\" />\n",
    "  <figcaption> <center> <u>Figure 1:</u> Picture of the environment setup with lightning <center> </figcaption>\n",
    "</figure>\n",
    "\n",
    "\n",
    "\n",
    "<!-- Commentaire : <img src=\"pics/environment.jpeg\" width=\"500\"/> -->"
   ]
  },
  {
   "cell_type": "markdown",
   "id": "3d786fd5",
   "metadata": {},
   "source": [
    "## Libraries import"
   ]
  },
  {
   "cell_type": "code",
   "execution_count": null,
   "id": "ac0f61a6",
   "metadata": {},
   "outputs": [],
   "source": [
    "#checkez ceux qui sont réellement nécéssaires\n",
    "import numpy as np\n",
    "import pyvisgraph as vg\n",
    "import math\n",
    "import geopandas as gpd\n",
    "from geopandas import GeoSeries\n",
    "from shapely.geometry import Polygon, Point, LineString\n",
    "import time"
   ]
  },
  {
   "cell_type": "markdown",
   "id": "eaa0f2c8",
   "metadata": {},
   "source": [
    "## Thymio Connection"
   ]
  },
  {
   "cell_type": "code",
   "execution_count": null,
   "id": "4ae6ed97",
   "metadata": {},
   "outputs": [],
   "source": [
    "#communication asynchrone avec thymio\n",
    "from tdmclient import ClientAsync, aw\n",
    "client = ClientAsync()\n",
    "node = await client.wait_for_node()\n",
    "await node.lock()"
   ]
  },
  {
   "cell_type": "markdown",
   "id": "5a5a5bac",
   "metadata": {},
   "source": [
    "# Description of the modules"
   ]
  },
  {
   "cell_type": "markdown",
   "id": "c8e79f70",
   "metadata": {},
   "source": [
    "We separated our code in different python file containing the functions for each module. We will import all the python files below"
   ]
  },
  {
   "cell_type": "code",
   "execution_count": null,
   "id": "a469aba9",
   "metadata": {},
   "outputs": [],
   "source": [
    "import Vision as vis\n",
    "import Global as glob\n",
    "import local as loc\n",
    "import Filtering as fil\n",
    "import control as ctrl"
   ]
  },
  {
   "cell_type": "markdown",
   "id": "c88f9d35",
   "metadata": {},
   "source": [
    "## Vision"
   ]
  },
  {
   "cell_type": "markdown",
   "id": "405c8116",
   "metadata": {},
   "source": [
    "## Global Navigation"
   ]
  },
  {
   "cell_type": "markdown",
   "id": "cf94e03f",
   "metadata": {},
   "source": [
    "## Local Navigation"
   ]
  },
  {
   "cell_type": "markdown",
   "id": "697e21e1",
   "metadata": {},
   "source": [
    "## Filtering"
   ]
  },
  {
   "cell_type": "markdown",
   "id": "69fc18af",
   "metadata": {},
   "source": [
    "## Motion Control"
   ]
  },
  {
   "cell_type": "markdown",
   "id": "491bd40b",
   "metadata": {},
   "source": [
    "# Code of the overall Project"
   ]
  },
  {
   "cell_type": "markdown",
   "id": "70e4aadd",
   "metadata": {},
   "source": [
    "# Conclusion"
   ]
  },
  {
   "cell_type": "markdown",
   "id": "ab1dc1b1",
   "metadata": {},
   "source": []
  }
 ],
 "metadata": {
  "kernelspec": {
   "display_name": "Python 3 (ipykernel)",
   "language": "python",
   "name": "python3"
  },
  "language_info": {
   "codemirror_mode": {
    "name": "ipython",
    "version": 3
   },
   "file_extension": ".py",
   "mimetype": "text/x-python",
   "name": "python",
   "nbconvert_exporter": "python",
   "pygments_lexer": "ipython3",
   "version": "3.8.12"
  }
 },
 "nbformat": 4,
 "nbformat_minor": 5
}
