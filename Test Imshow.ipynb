{
 "cells": [
  {
   "cell_type": "code",
   "execution_count": 1,
   "id": "db850733",
   "metadata": {},
   "outputs": [],
   "source": [
    "import cv2, time\n",
    "import numpy as np"
   ]
  },
  {
   "cell_type": "code",
   "execution_count": 5,
   "id": "0efe7471",
   "metadata": {},
   "outputs": [],
   "source": [
    "cap = cv2.VideoCapture(\"thymio_mov_480p.mov\") \n",
    "a = 0\n",
    "coord = []\n",
    "x = 0\n",
    "y = 0\n",
    "while True:\n",
    "    a = a + 1\n",
    "    _, frame = cap.read()\n",
    "    coord.append((x+a,y+a))\n",
    "    for i in range(0,len(coord)):\n",
    "        cv2.circle(frame,(int(coord[i][0]),int(coord[i][1])), int(3), (0,255,255), 2)\n",
    "    \n",
    "    \n",
    "    \n",
    "    #Show result \n",
    "    cv2.imshow(\"results\", frame)\n",
    "    if cv2.waitKey(1) & 0xFF == ord('q'):      \n",
    "        break\n",
    "        \n",
    "    \n",
    "  \n",
    "cap.release() \n",
    "  \n",
    "cv2.destroyAllWindows() "
   ]
  },
  {
   "cell_type": "code",
   "execution_count": null,
   "id": "fac369c9",
   "metadata": {},
   "outputs": [],
   "source": []
  }
 ],
 "metadata": {
  "kernelspec": {
   "display_name": "Python 3 (ipykernel)",
   "language": "python",
   "name": "python3"
  },
  "language_info": {
   "codemirror_mode": {
    "name": "ipython",
    "version": 3
   },
   "file_extension": ".py",
   "mimetype": "text/x-python",
   "name": "python",
   "nbconvert_exporter": "python",
   "pygments_lexer": "ipython3",
   "version": "3.9.7"
  }
 },
 "nbformat": 4,
 "nbformat_minor": 5
}
