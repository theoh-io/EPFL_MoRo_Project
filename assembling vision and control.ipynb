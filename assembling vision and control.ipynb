{
 "cells": [
  {
   "cell_type": "markdown",
   "id": "9e9cc950",
   "metadata": {},
   "source": [
    "Boucle globale de lecture de vidéo\n",
    "\n",
    "\n",
    "state= 0\n",
    "    img_calibration\n",
    "    obstacle detection\n",
    "    start and goal\n",
    "    global_nav\n",
    "    \n",
    "state = 1\n",
    "    img_calibration\n",
    "    detect Thymio\n",
    "    astolfi ou local nav\n",
    "    \n",
    "    "
   ]
  },
  {
   "cell_type": "code",
   "execution_count": null,
   "id": "424faf1c",
   "metadata": {},
   "outputs": [],
   "source": [
    "#lancer la communication asynchrone avec thymio\n",
    "from tdmclient import ClientAsync, aw\n",
    "client = ClientAsync()\n",
    "node = await client.wait_for_node()\n",
    "await node.lock()\n",
    "\n",
    "#vérifier d'avoir installer pyserial"
   ]
  },
  {
   "cell_type": "markdown",
   "id": "31683745",
   "metadata": {},
   "source": [
    "# Initialisation"
   ]
  },
  {
   "cell_type": "code",
   "execution_count": 1,
   "id": "9d8a8ded",
   "metadata": {},
   "outputs": [],
   "source": [
    "#check each import if it's really necessary\n",
    "import cv2 \n",
    "import time\n",
    "import numpy as np\n",
    "from PIL import Image \n",
    "import math\n",
    "import matplotlib\n",
    "from matplotlib.pyplot import imshow\n",
    "from matplotlib import pyplot as plt\n",
    "\n",
    "#import from global control\n",
    "#import from glocal + control\n",
    "import pyvisgraph as vg\n",
    "import geopandas as gpd\n",
    "from geopandas import GeoSeries\n",
    "from shapely.geometry import Polygon, Point, LineString\n",
    "import time"
   ]
  },
  {
   "cell_type": "code",
   "execution_count": 2,
   "id": "c3bd16fc",
   "metadata": {},
   "outputs": [],
   "source": [
    "import Vision as vis\n",
    "import Global as glob\n",
    "import control as ctrl"
   ]
  },
  {
   "cell_type": "code",
   "execution_count": 3,
   "id": "2f7e6604",
   "metadata": {},
   "outputs": [],
   "source": [
    "#pour le test utilise une image mais en vrai relier à la caméra et temps réel\n",
    "\n",
    "#img_final = np.array(Image.open('env_final.jpeg'))\n",
    "img_final = cv2.imread('env_final.jpeg')\n",
    "img_final2 = cv2.cvtColor(img_final, cv2.COLOR_BGR2RGB)\n",
    "img=vis.img_calibration(img_final2)\n",
    "#cv2.imwrite('warpped.png', zzz)"
   ]
  },
  {
   "cell_type": "code",
   "execution_count": 4,
   "id": "295dabc6",
   "metadata": {},
   "outputs": [
    {
     "name": "stdout",
     "output_type": "stream",
     "text": [
      "[[[1016  127]]\n",
      "\n",
      " [[1024  127]]\n",
      "\n",
      " [[1030  129]]\n",
      "\n",
      " [[1037  138]]\n",
      "\n",
      " [[1036  149]]\n",
      "\n",
      " [[1030  155]]\n",
      "\n",
      " [[1024  158]]\n",
      "\n",
      " [[1013  156]]\n",
      "\n",
      " [[1008  151]]\n",
      "\n",
      " [[1005  145]]\n",
      "\n",
      " [[1007  135]]\n",
      "\n",
      " [[1013  128]]]\n"
     ]
    }
   ],
   "source": [
    "#obstacle detection\n",
    "polygons=vis.obstacle_detection(img)\n",
    "\n",
    "#Start and goal detection\n",
    "start=vis.detectCircle(img,'cyan')"
   ]
  },
  {
   "cell_type": "code",
   "execution_count": null,
   "id": "90122b81",
   "metadata": {},
   "outputs": [],
   "source": [
    "#plot the visibility graph\n",
    "\n",
    "#a voir si on le met dedans\n",
    "margin = 0.2\n",
    "path=glob.global_pathplanning(start, goal, obst,margin)\n",
    "\n",
    "\n"
   ]
  },
  {
   "cell_type": "code",
   "execution_count": null,
   "id": "6be2cdbb",
   "metadata": {},
   "outputs": [],
   "source": []
  }
 ],
 "metadata": {
  "kernelspec": {
   "display_name": "Python 3 (ipykernel)",
   "language": "python",
   "name": "python3"
  },
  "language_info": {
   "codemirror_mode": {
    "name": "ipython",
    "version": 3
   },
   "file_extension": ".py",
   "mimetype": "text/x-python",
   "name": "python",
   "nbconvert_exporter": "python",
   "pygments_lexer": "ipython3",
   "version": "3.8.12"
  }
 },
 "nbformat": 4,
 "nbformat_minor": 5
}
