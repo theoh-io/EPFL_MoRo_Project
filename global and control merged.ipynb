{
 "cells": [
  {
   "cell_type": "code",
   "execution_count": 1,
   "metadata": {},
   "outputs": [
    {
     "data": {
      "text/plain": [
       "Node eb16048f-962c-44b2-9651-cc3b67bca83b"
      ]
     },
     "execution_count": 1,
     "metadata": {},
     "output_type": "execute_result"
    }
   ],
   "source": [
    "#lancer la communication asynchrone avec thymio\n",
    "from tdmclient import ClientAsync, aw\n",
    "client = ClientAsync()\n",
    "node = await client.wait_for_node()\n",
    "await node.lock()\n",
    "\n",
    "#!pip install pyvisgraph\n",
    "#!pip install geopandas\n",
    "#!pip install matplotlib"
   ]
  },
  {
   "cell_type": "code",
   "execution_count": 3,
   "metadata": {},
   "outputs": [
    {
     "name": "stdout",
     "output_type": "stream",
     "text": [
      "Collecting geopandas\n",
      "  Using cached geopandas-0.10.2-py2.py3-none-any.whl (1.0 MB)\n",
      "Collecting fiona>=1.8\n",
      "  Using cached Fiona-1.8.20.tar.gz (1.3 MB)\n"
     ]
    },
    {
     "name": "stderr",
     "output_type": "stream",
     "text": [
      "    ERROR: Command errored out with exit status 1:\n",
      "     command: 'C:\\Users\\theoh\\anaconda3\\python.exe' -c 'import sys, setuptools, tokenize; sys.argv[0] = '\"'\"'C:\\\\Users\\\\theoh\\\\AppData\\\\Local\\\\Temp\\\\pip-install-k5rw1ynu\\\\fiona\\\\setup.py'\"'\"'; __file__='\"'\"'C:\\\\Users\\\\theoh\\\\AppData\\\\Local\\\\Temp\\\\pip-install-k5rw1ynu\\\\fiona\\\\setup.py'\"'\"';f=getattr(tokenize, '\"'\"'open'\"'\"', open)(__file__);code=f.read().replace('\"'\"'\\r\\n'\"'\"', '\"'\"'\\n'\"'\"');f.close();exec(compile(code, __file__, '\"'\"'exec'\"'\"'))' egg_info --egg-base 'C:\\Users\\theoh\\AppData\\Local\\Temp\\pip-pip-egg-info-lw8khdcr'\n",
      "         cwd: C:\\Users\\theoh\\AppData\\Local\\Temp\\pip-install-k5rw1ynu\\fiona\\\n",
      "    Complete output (1 lines):\n",
      "    A GDAL API version must be specified. Provide a path to gdal-config using a GDAL_CONFIG environment variable or use a GDAL_VERSION environment variable.\n",
      "    ----------------------------------------\n",
      "ERROR: Command errored out with exit status 1: python setup.py egg_info Check the logs for full command output.\n"
     ]
    }
   ],
   "source": [
    "!pip install geopandas"
   ]
  },
  {
   "cell_type": "code",
   "execution_count": 1,
   "metadata": {},
   "outputs": [
    {
     "ename": "ModuleNotFoundError",
     "evalue": "No module named 'geopandas'",
     "output_type": "error",
     "traceback": [
      "\u001b[1;31m---------------------------------------------------------------------------\u001b[0m",
      "\u001b[1;31mModuleNotFoundError\u001b[0m                       Traceback (most recent call last)",
      "\u001b[1;32m<ipython-input-1-74ec4b30e903>\u001b[0m in \u001b[0;36m<module>\u001b[1;34m\u001b[0m\n\u001b[0;32m      2\u001b[0m \u001b[1;32mimport\u001b[0m \u001b[0mpyvisgraph\u001b[0m \u001b[1;32mas\u001b[0m \u001b[0mvg\u001b[0m\u001b[1;33m\u001b[0m\u001b[1;33m\u001b[0m\u001b[0m\n\u001b[0;32m      3\u001b[0m \u001b[1;32mimport\u001b[0m \u001b[0mmath\u001b[0m\u001b[1;33m\u001b[0m\u001b[1;33m\u001b[0m\u001b[0m\n\u001b[1;32m----> 4\u001b[1;33m \u001b[1;32mimport\u001b[0m \u001b[0mgeopandas\u001b[0m \u001b[1;32mas\u001b[0m \u001b[0mgpd\u001b[0m\u001b[1;33m\u001b[0m\u001b[1;33m\u001b[0m\u001b[0m\n\u001b[0m\u001b[0;32m      5\u001b[0m \u001b[1;32mfrom\u001b[0m \u001b[0mgeopandas\u001b[0m \u001b[1;32mimport\u001b[0m \u001b[0mGeoSeries\u001b[0m\u001b[1;33m\u001b[0m\u001b[1;33m\u001b[0m\u001b[0m\n\u001b[0;32m      6\u001b[0m \u001b[1;32mfrom\u001b[0m \u001b[0mshapely\u001b[0m\u001b[1;33m.\u001b[0m\u001b[0mgeometry\u001b[0m \u001b[1;32mimport\u001b[0m \u001b[0mPolygon\u001b[0m\u001b[1;33m,\u001b[0m \u001b[0mPoint\u001b[0m\u001b[1;33m,\u001b[0m \u001b[0mLineString\u001b[0m\u001b[1;33m\u001b[0m\u001b[1;33m\u001b[0m\u001b[0m\n",
      "\u001b[1;31mModuleNotFoundError\u001b[0m: No module named 'geopandas'"
     ]
    }
   ],
   "source": [
    "import numpy as np\n",
    "import pyvisgraph as vg\n",
    "import math\n",
    "import geopandas as gpd\n",
    "from geopandas import GeoSeries\n",
    "from shapely.geometry import Polygon, Point, LineString\n",
    "import control as ctrl\n",
    "import Global as glob"
   ]
  },
  {
   "cell_type": "code",
   "execution_count": 71,
   "metadata": {},
   "outputs": [],
   "source": [
    "# Defining example variables given by vision module\n",
    "p1 = [(1, 0.5), (2, 0.5), (2, 1.5), (1, 1.5)]\n",
    "#p2 = [(3, 0), (4, 0), (5, 2), (5, 4), (3, 3)]\n",
    "p3 = [(3, 3), (4, 3), (4, 4), (3, 4)]\n",
    "#p1=[(2,-3), (4,-3), (4,1), (2,1)]\n",
    "\n",
    "list_obstacles=[p1,p3]\n",
    "start=[0.0,0.0]\n",
    "end=[4.5, 3.5]\n",
    "\n",
    "#variables definition needed\n",
    "margin=0.2\n",
    "\n",
    "#transforming arrays of coord to polygon\n",
    "g=glob.obstacles_to_polygons(list_obstacles)"
   ]
  },
  {
   "cell_type": "code",
   "execution_count": 72,
   "metadata": {},
   "outputs": [
    {
     "name": "stdout",
     "output_type": "stream",
     "text": [
      "0    POLYGON ((1.00000 0.50000, 2.00000 0.50000, 2....\n",
      "1    POLYGON ((3.00000 3.00000, 4.00000 3.00000, 4....\n",
      "dtype: geometry\n"
     ]
    },
    {
     "data": {
      "text/plain": [
       "<AxesSubplot:>"
      ]
     },
     "execution_count": 72,
     "metadata": {},
     "output_type": "execute_result"
    },
    {
     "data": {
      "image/png": "[encoded data removed]",
      "text/plain": [
       "<Figure size 432x288 with 1 Axes>"
      ]
     },
     "metadata": {
      "needs_background": "light"
     },
     "output_type": "display_data"
    }
   ],
   "source": [
    "#visualizing the polygons\n",
    "print(g)\n",
    "g.plot()"
   ]
  },
  {
   "cell_type": "code",
   "execution_count": 73,
   "metadata": {},
   "outputs": [
    {
     "data": {
      "text/plain": [
       "0    POLYGON ((0.80000 0.30000, 0.80000 1.70000, 2....\n",
       "1    POLYGON ((2.80000 2.80000, 2.80000 4.20000, 4....\n",
       "dtype: geometry"
      ]
     },
     "execution_count": 73,
     "metadata": {},
     "output_type": "execute_result"
    }
   ],
   "source": [
    "#add the margin\n",
    "glob.polygons_add_margin(g,margin)"
   ]
  },
  {
   "cell_type": "code",
   "execution_count": 74,
   "metadata": {},
   "outputs": [
    {
     "name": "stdout",
     "output_type": "stream",
     "text": [
      "0    POLYGON ((1.00000 0.50000, 2.00000 0.50000, 2....\n",
      "1    POLYGON ((3.00000 3.00000, 4.00000 3.00000, 4....\n",
      "dtype: geometry\n"
     ]
    },
    {
     "data": {
      "text/plain": [
       "<AxesSubplot:>"
      ]
     },
     "execution_count": 74,
     "metadata": {},
     "output_type": "execute_result"
    },
    {
     "data": {
      "image/png": "[encoded data removed]",
      "text/plain": [
       "<Figure size 432x288 with 1 Axes>"
      ]
     },
     "metadata": {
      "needs_background": "light"
     },
     "output_type": "display_data"
    }
   ],
   "source": [
    "#visualizing the polygons with the margin\n",
    "print(g)\n",
    "g.plot()"
   ]
  },
  {
   "cell_type": "code",
   "execution_count": 75,
   "metadata": {},
   "outputs": [
    {
     "name": "stderr",
     "output_type": "stream",
     "text": [
      "100%|██████████| 1/1 [00:00<00:00, 371.05it/s]"
     ]
    },
    {
     "name": "stdout",
     "output_type": "stream",
     "text": [
      "\n",
      " Visibility graph input:  [[Point(1.00, 0.50), Point(2.00, 0.50), Point(2.00, 1.50), Point(1.00, 1.50)], [Point(3.00, 3.00), Point(4.00, 3.00), Point(4.00, 4.00), Point(3.00, 4.00)]] \n",
      "\n",
      "Shortest path distance: 5.863984385168227 \n",
      "\n"
     ]
    },
    {
     "name": "stderr",
     "output_type": "stream",
     "text": [
      "\n"
     ]
    }
   ],
   "source": [
    "#computing the optimal path using Visibility Graph algorithm\n",
    "visgraph=glob.polygons_to_VisibilityGraph(g)\n",
    "glob.save_VisibilityGraph(visgraph,'visgraph_1')\n",
    "\n",
    "shortest_path=glob.VisibilityGraph_shortest_path(visgraph,start,end)\n",
    "\n",
    "distance=glob.path_distance(shortest_path)"
   ]
  },
  {
   "cell_type": "code",
   "execution_count": 76,
   "metadata": {},
   "outputs": [
    {
     "name": "stdout",
     "output_type": "stream",
     "text": [
      "0    POINT (0.00000 0.00000)\n",
      "1    POINT (1.00000 1.50000)\n",
      "2    POINT (4.00000 3.00000)\n",
      "3    POINT (4.50000 3.50000)\n",
      "dtype: geometry \n",
      "\n",
      "0    POLYGON ((1.00000 0.50000, 2.00000 0.50000, 2....\n",
      "1    POLYGON ((3.00000 3.00000, 4.00000 3.00000, 4....\n",
      "0                              POINT (0.00000 0.00000)\n",
      "1                              POINT (1.00000 1.50000)\n",
      "2                              POINT (4.00000 3.00000)\n",
      "3                              POINT (4.50000 3.50000)\n",
      "dtype: geometry \n",
      "\n"
     ]
    },
    {
     "data": {
      "image/png": "[encoded data removed]",
      "text/plain": [
       "<Figure size 432x288 with 1 Axes>"
      ]
     },
     "metadata": {
      "needs_background": "light"
     },
     "output_type": "display_data"
    },
    {
     "data": {
      "image/png": "[encoded data removed]",
      "text/plain": [
       "<Figure size 432x288 with 1 Axes>"
      ]
     },
     "metadata": {
      "needs_background": "light"
     },
     "output_type": "display_data"
    }
   ],
   "source": [
    "#convertit le shortest path en geometric pour pouvoir etre visualisé (vision)\n",
    "path=glob.ShortestPath_to_geometric(shortest_path)\n",
    "\n",
    "#ajoute a g le chemin\n",
    "g=g.geometry.append(path.geometry)\n",
    "\n",
    "glob.plot_geometric_data(path)\n",
    "glob.plot_geometric_data(g)"
   ]
  },
  {
   "cell_type": "code",
   "execution_count": 77,
   "metadata": {},
   "outputs": [
    {
     "name": "stdout",
     "output_type": "stream",
     "text": [
      "[1.0, 1.5]\n",
      "[4.0, 3.0]\n",
      "[4.5, 3.5]\n"
     ]
    }
   ],
   "source": [
    "#converting geometric list into vector\n",
    "#angles=[0,45,0]\n",
    "start_angle=0\n",
    "checkpoints=glob.geometric_path_to_vector(path)  #can be accesed via g too\n",
    "\n",
    "#iterating through checkpoints \n",
    "ctrl.globnav(checkpoints,start_angle,node,client)\n",
    "    "
   ]
  },
  {
   "cell_type": "code",
   "execution_count": 23,
   "metadata": {},
   "outputs": [],
   "source": []
  },
  {
   "cell_type": "code",
   "execution_count": 51,
   "metadata": {},
   "outputs": [],
   "source": []
  },
  {
   "cell_type": "code",
   "execution_count": null,
   "metadata": {},
   "outputs": [],
   "source": []
  }
 ],
 "metadata": {
  "kernelspec": {
   "display_name": "Python 3",
   "language": "python",
   "name": "python3"
  },
  "language_info": {
   "codemirror_mode": {
    "name": "ipython",
    "version": 3
   },
   "file_extension": ".py",
   "mimetype": "text/x-python",
   "name": "python",
   "nbconvert_exporter": "python",
   "pygments_lexer": "ipython3",
   "version": "3.8.5"
  }
 },
 "nbformat": 4,
 "nbformat_minor": 4
}
