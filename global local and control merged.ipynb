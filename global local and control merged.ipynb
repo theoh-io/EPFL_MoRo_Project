{
 "cells": [
  {
   "cell_type": "code",
   "execution_count": 1,
   "metadata": {},
   "outputs": [
    {
     "data": {
      "text/plain": [
       "Node eb16048f-962c-44b2-9651-cc3b67bca83b"
      ]
     },
     "execution_count": 1,
     "metadata": {},
     "output_type": "execute_result"
    }
   ],
   "source": [
    "#lancer la communication asynchrone avec thymio\n",
    "from tdmclient import ClientAsync, aw\n",
    "client = ClientAsync()\n",
    "node = await client.wait_for_node()\n",
    "await node.lock()\n",
    "\n",
    "#!pip install pyvisgraph\n",
    "#!pip install geopandas\n",
    "#!pip install matplotlib"
   ]
  },
  {
   "cell_type": "code",
   "execution_count": 2,
   "metadata": {},
   "outputs": [],
   "source": [
    "import numpy as np\n",
    "import pyvisgraph as vg\n",
    "import math\n",
    "import geopandas as gpd\n",
    "from geopandas import GeoSeries\n",
    "from shapely.geometry import Polygon, Point, LineString\n",
    "import control as ctrl\n",
    "import Global as glob\n",
    "import time\n",
    "import local_nav as local"
   ]
  },
  {
   "cell_type": "code",
   "execution_count": null,
   "metadata": {},
   "outputs": [],
   "source": []
  },
  {
   "cell_type": "code",
   "execution_count": null,
   "metadata": {},
   "outputs": [],
   "source": [
    "#simulating the main loop\n",
    "import time\n",
    "\n",
    "def getting_vis():\n",
    "    print(\"vision started\")\n",
    "    time.sleep(0.5)#simulating execution of the function\n",
    "    actual,angle=([0.00,1.00],45) #fake data\n",
    "    return (actual, angle)\n",
    "    \n",
    "def kalman(actual, angle):\n",
    "    print(\"kalman started\")\n",
    "    time.sleep(0.1) #simulating execution of the function\n",
    "    print(\"kalman received position {} and angle {}\".format(actual,angle))\n",
    "    pred_pos=[actual[0]+0.1,actual[1]-0.1]\n",
    "    pred_angle= angle/1,1\n",
    "    return pred_pos, pred_angle\n",
    "\n",
    "def astolfi():\n",
    "    print(\"astolfi started\")\n",
    "    time.sleep(0.1)\n",
    "    \n",
    "def local_detection():\n",
    "    print(\"local detection started\")\n",
    "    for i in range(3):\n",
    "        prox=ctrl.read_prox_sensors(node,client)\n",
    "        print(prox)\n",
    "        if (prox[2]>1000):\n",
    "            print(\"object detected\")\n",
    "        aw(client.sleep(0.2))\n",
    "    \n",
    "def main_loop():\n",
    "    while True:\n",
    "        local_detection()\n",
    "        actual, angle= getting_vis()\n",
    "        pred_pos, pred_angle = kalman(actual, angle)\n",
    "        astolfi()\n",
    "    \n",
    "    \n",
    "#main_loop()"
   ]
  },
  {
   "cell_type": "code",
   "execution_count": null,
   "metadata": {},
   "outputs": [],
   "source": [
    "def update_state(state,obstThrL,obstThrH):\n",
    "    if state == 0: \n",
    "        # switch from goal tracking to obst avoidance if obstacle detected\n",
    "        if (obst[0] > obstThrH):\n",
    "            state = 1\n",
    "            print(\"change state to local\")\n",
    "        elif (obst[2] > obstThrH):\n",
    "            state = 1\n",
    "            print(\"change state to local\")\n",
    "        elif (obst[1] > obstThrH):\n",
    "            state = 1\n",
    "            print(\"change state to local\")\n",
    "    elif state == 1:\n",
    "        if obst[0] < obstThrL:\n",
    "            if obst[2] < obstThrL:\n",
    "                # switch from obst avoidance to goal tracking if obstacle got unseen\n",
    "                state = 0\n",
    "                print(\"change state to global\")\n",
    "    \n",
    "    return state\n",
    "    \n",
    "#Initializing global path planning\n",
    "p1 = [(1, 0.5), (2, 0.5), (2, 1.5), (1, 1.5)]\n",
    "p3 = [(3, 3), (4, 3), (4, 4), (3, 4)]\n",
    "list_obstacles=[p1,p3]\n",
    "start_point=[0.0,0.0]\n",
    "end_point=[4.5, 3.5]\n",
    "margin=0.2\n",
    "start_angle=0\n",
    "\n",
    "path = glob.global_pathplanning(start_point,end_point,list_obstacles,margin)\n",
    "checkpoints=glob.geometric_path_to_vector(path)  #can be accesed via g too\n",
    "print(\"Checkpoints\",checkpoints)\n",
    "\n",
    "checkp=1\n",
    "actual_angle=0  \n",
    "\n",
    "y = [0,0]          # powers given to motor wheels\n",
    "state = 0          # States FSM 0=global nav, 1=local nav\n",
    "obst = [0,0,0]     # measurements from left, middle, right prox sensors\n",
    "\n",
    "obstThrL = 2500      # low obstacle threshold to switch state 1->0\n",
    "obstThrL2 = 3000\n",
    "obstThrH = 4000      # high obstacle threshold to switch state 0->1  \n",
    "\n",
    "#start_time = time.time()\n",
    "#seconds = 1\n",
    "\n",
    "while True:\n",
    "    \n",
    "    # get the proximity sensors value and obstacles values\n",
    "    prox_horizontal = ctrl.read_prox_sensors(node,client)\n",
    "    obst = [prox_horizontal[0], prox_horizontal[2], prox_horizontal[4]]\n",
    "    \n",
    "    # update the state and speed motors values\n",
    "    state = update_state(state,obstThrL,obstThrH)\n",
    "    y = ctrl.read_motors_speed(node,client)\n",
    "                \n",
    "    #current_time = time.time()\n",
    "    #elapsed_time = current_time - start_time\n",
    "    #if elapsed_time > seconds:\n",
    "        #print(\"Finished iterating in: \" + str(int(elapsed_time))  + \" seconds\")\n",
    "        #break\n",
    "                \n",
    "    print(\"state\", state)\n",
    "\n",
    "    if state == 0:\n",
    "        \"\"\"\n",
    "        # With positon estimation when vision and/or kalman ready\n",
    "        \n",
    "        actual,angle = getting_vis()\n",
    "        pred_pos,pred_angle = kalman(actual, angle)\n",
    "        \n",
    "        actual_pos=pred_pos\n",
    "        actual_angle=pred_angle\n",
    "        \n",
    "        if actual_pos == checkpoints[checkp]: # other option: if (actual_pos - checkpoints[checkp]) < error\n",
    "            checkp=checkp+1\n",
    "        goal_pos=checkpoints[checkp]\n",
    "        \n",
    "        y = ctrl.astolfi2(actual_pos, goal_pos, actual_angle, node)\n",
    "        \n",
    "        \"\"\"\n",
    "        actual_pos=checkpoints[0]\n",
    "        goal_pos=checkpoints[1]\n",
    "        \n",
    "        \"\"\"\n",
    "        # Without estimation, turn and forward method \n",
    "        \n",
    "        #y = ctrl.turn2(goal_pos, actual_pos,actual_angle, node, client)\n",
    "        #ctrl.set_motors(y[0],y[1],node)\n",
    "        #y = ctrl.forward2(goal_pos,actual_pos, node, client)\n",
    "        #actual_angle = ctrl2.angle2points(goal_pos,actual_pos,node) \n",
    "        \n",
    "        \"\"\"\n",
    "        \n",
    "        \"\"\"\n",
    "        # Without estimation, astolfi method \n",
    "        \n",
    "        y = ctrl.astolfi2(actual_pos, goal_pos, actual_angle, node)\n",
    "        print(\"y astolfi \",y)\n",
    "        \"\"\"\n",
    "        \n",
    "        \"\"\"\n",
    "        # Without estimation, constant velocity\n",
    "        y = [50,50]\n",
    "        \"\"\"\n",
    "        \n",
    "        \n",
    "        # Without estimation without obstacle avoidance: global path in one iteration \n",
    "        \n",
    "        ctrl.globnav(checkpoints,start_angle,node,client)\n",
    "        \n",
    "        ctrl.set_motors(y[0],y[1],node)\n",
    "\n",
    "    elif state == 1:\n",
    "        print(obst)\n",
    "        y = local.local_nav(prox_horizontal,y)\n",
    "        print(y)\n",
    "        ctrl.set_motors(y[0],y[1],node)\n",
    "\n",
    "ctrl.stopmotors(node)"
   ]
  },
  {
   "cell_type": "code",
   "execution_count": null,
   "metadata": {},
   "outputs": [],
   "source": [
    "ctrl.stopmotors(node)"
   ]
  },
  {
   "cell_type": "code",
   "execution_count": 8,
   "metadata": {},
   "outputs": [
    {
     "name": "stdout",
     "output_type": "stream",
     "text": [
      "117 82\n",
      "117 82\n",
      "117 82\n",
      "117 82\n",
      "117 82\n",
      "117 82\n",
      "117 82\n",
      "117 82\n",
      "117 82\n",
      "117 82\n",
      "117 82\n",
      "117 82\n",
      "117 82\n",
      "117 82\n",
      "117 82\n",
      "117 82\n",
      "117 82\n",
      "117 82\n",
      "117 82\n",
      "117 82\n",
      "117 82\n",
      "117 82\n",
      "117 82\n",
      "117 82\n",
      "117 82\n",
      "117 82\n",
      "117 82\n",
      "117 82\n",
      "117 82\n",
      "Finished iterating in: 3 seconds\n"
     ]
    }
   ],
   "source": [
    "#Initializing global path planning\n",
    "p1 = [(1, 0.5), (2, 0.5), (2, 1.5), (1, 1.5)]\n",
    "p3 = [(3, 3), (4, 3), (4, 4), (3, 4)]\n",
    "list_obstacles=[p1,p3]\n",
    "start_point=[0.0,0.0]\n",
    "end_point=[4.5, 3.5]\n",
    "margin=0.2\n",
    "start_angle=0\n",
    "\n",
    "#path = glob.global_pathplanning(start_point,end_point,list_obstacles,margin)\n",
    "#checkpoints=glob.geometric_path_to_vector(path)  #can be accesed via g too\n",
    "#print(\"Checkpoints\",checkpoints)\n",
    "checkpoints=[(0.0, 0.0), (1, 0)]\n",
    "actual_angle=45\n",
    "checkp=0\n",
    "start_time = time.time()\n",
    "seconds = 3\n",
    "\n",
    "while True:\n",
    "        ctrl.astolfi(checkpoints[checkp],checkpoints[checkp+1], actual_angle, node)\n",
    "        \n",
    "        #y = ctrl.astolfi2(checkpoints[checkp+1],checkpoints[checkp], actual_angle, node)\n",
    "        #ctrl.set_motors(y[0],y[1],node)\n",
    "        #actual_angle=ctrl.angle2points(checkpoints[i+1],checkpoints[i],node)\n",
    "        #ctrl.stopmotors(node)\n",
    "        \n",
    "        current_time = time.time()\n",
    "        elapsed_time = current_time - start_time\n",
    "        if elapsed_time > seconds:\n",
    "            print(\"Finished iterating in: \" + str(int(elapsed_time))  + \" seconds\")\n",
    "            break\n",
    "\n",
    "ctrl.stopmotors(node)               "
   ]
  },
  {
   "cell_type": "code",
   "execution_count": 9,
   "metadata": {},
   "outputs": [
    {
     "name": "stdout",
     "output_type": "stream",
     "text": [
      "0    POLYGON ((1.00000 0.50000, 2.00000 0.50000, 2....\n",
      "1    POLYGON ((3.00000 3.00000, 4.00000 3.00000, 4....\n",
      "dtype: geometry \n",
      "\n"
     ]
    },
    {
     "name": "stderr",
     "output_type": "stream",
     "text": [
      "100%|██████████| 1/1 [00:00<00:00, 945.09it/s]"
     ]
    },
    {
     "name": "stdout",
     "output_type": "stream",
     "text": [
      "0    POLYGON ((0.90000 0.40000, 0.90000 1.60000, 2....\n",
      "1    POLYGON ((2.90000 2.90000, 2.90000 4.10000, 4....\n",
      "dtype: geometry \n",
      "\n",
      "\n",
      " Visibility graph input:  [[Point(0.90, 0.40), Point(0.90, 1.60), Point(2.10, 1.60), Point(2.10, 0.40)], [Point(2.90, 2.90), Point(2.90, 4.10), Point(4.10, 4.10), Point(4.10, 2.90)]] \n",
      "\n",
      "Shortest path distance: 6.010849437995489 \n",
      "\n",
      "0    POLYGON ((0.90000 0.40000, 0.90000 1.60000, 2....\n",
      "1    POLYGON ((2.90000 2.90000, 2.90000 4.10000, 4....\n",
      "0                              POINT (0.00000 0.00000)\n",
      "1                              POINT (0.90000 1.60000)\n",
      "2                              POINT (4.10000 2.90000)\n",
      "3                              POINT (4.50000 3.50000)\n",
      "dtype: geometry \n",
      "\n",
      "path  0    POINT (0.00000 0.00000)\n",
      "1    POINT (0.90000 1.60000)\n",
      "2    POINT (4.10000 2.90000)\n",
      "3    POINT (4.50000 3.50000)\n",
      "dtype: geometry\n",
      "Checkpoints [[0.0, 0.0], [0.9, 1.6], [4.1, 2.9], [4.5, 3.5]]\n"
     ]
    },
    {
     "name": "stderr",
     "output_type": "stream",
     "text": [
      "\n"
     ]
    },
    {
     "data": {
      "image/png": "[encoded data removed]",
      "text/plain": [
       "<Figure size 432x288 with 1 Axes>"
      ]
     },
     "metadata": {
      "needs_background": "light"
     },
     "output_type": "display_data"
    },
    {
     "data": {
      "image/png": "[encoded data removed]",
      "text/plain": [
       "<Figure size 432x288 with 1 Axes>"
      ]
     },
     "metadata": {
      "needs_background": "light"
     },
     "output_type": "display_data"
    },
    {
     "data": {
      "image/png": "[encoded data removed]",
      "text/plain": [
       "<Figure size 432x288 with 1 Axes>"
      ]
     },
     "metadata": {
      "needs_background": "light"
     },
     "output_type": "display_data"
    }
   ],
   "source": [
    "#Initializing global path planning\n",
    "p1 = [(1, 0.5), (2, 0.5), (2, 1.5), (1, 1.5)]\n",
    "p3 = [(3, 3), (4, 3), (4, 4), (3, 4)]\n",
    "list_obstacles=[p1,p3]\n",
    "start_point=[0.0,0.0]\n",
    "end_point=[4.5, 3.5]\n",
    "margin=0.1\n",
    "\n",
    "g = glob.obstacles_to_polygons(list_obstacles)\n",
    "glob.plot_geometric_data(g)\n",
    "\n",
    "g = glob.polygons_add_margin(g,margin)\n",
    "glob.plot_geometric_data(g)\n",
    "\n",
    "visgraph = glob.polygons_to_VisibilityGraph(g)\n",
    "\n",
    "shortest_path = glob.VisibilityGraph_shortest_path(visgraph, start_point, end_point)\n",
    "\n",
    "distance = glob.path_distance(shortest_path)\n",
    "\n",
    "path = glob.ShortestPath_to_geometric(shortest_path)\n",
    "g = g.geometry.append(path.geometry)\n",
    "\n",
    "#plot_geometric_data(path)\n",
    "glob.plot_geometric_data(g)\n",
    "print(\"path \", path)\n",
    "\n",
    "checkpoints=glob.geometric_path_to_vector(path)  #can be accesed via g too\n",
    "print(\"Checkpoints\",checkpoints)"
   ]
  },
  {
   "cell_type": "code",
   "execution_count": null,
   "metadata": {},
   "outputs": [],
   "source": []
  }
 ],
 "metadata": {
  "kernelspec": {
   "display_name": "Python 3",
   "language": "python",
   "name": "python3"
  },
  "language_info": {
   "codemirror_mode": {
    "name": "ipython",
    "version": 3
   },
   "file_extension": ".py",
   "mimetype": "text/x-python",
   "name": "python",
   "nbconvert_exporter": "python",
   "pygments_lexer": "ipython3",
   "version": "3.8.8"
  }
 },
 "nbformat": 4,
 "nbformat_minor": 4
}
