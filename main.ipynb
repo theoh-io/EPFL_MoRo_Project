{
 "cells": [
  {
   "cell_type": "markdown",
   "id": "9e9cc950",
   "metadata": {},
   "source": [
    "Boucle globale de lecture de vidéo\n",
    "\n",
    "\n",
    "state= 0\n",
    "    img_calibration\n",
    "    obstacle detection\n",
    "    start and goal\n",
    "    global_nav\n",
    "    \n",
    "state = 1\n",
    "    img_calibration\n",
    "    detect Thymio\n",
    "    astolfi ou local nav\n",
    "    \n",
    "    "
   ]
  },
  {
   "cell_type": "code",
   "execution_count": 1,
   "id": "424faf1c",
   "metadata": {},
   "outputs": [
    {
     "data": {
      "text/plain": [
       "Node eb16048f-962c-44b2-9651-cc3b67bca83b"
      ]
     },
     "execution_count": 1,
     "metadata": {},
     "output_type": "execute_result"
    }
   ],
   "source": [
    "#lancer la communication asynchrone avec thymio\n",
    "from tdmclient import ClientAsync, aw\n",
    "client = ClientAsync()\n",
    "node = await client.wait_for_node()\n",
    "await node.lock()\n",
    "\n",
    "#vérifier d'avoir installer pyserial"
   ]
  },
  {
   "cell_type": "markdown",
   "id": "31683745",
   "metadata": {},
   "source": [
    "# Initialisation"
   ]
  },
  {
   "cell_type": "code",
   "execution_count": 2,
   "id": "9d8a8ded",
   "metadata": {},
   "outputs": [],
   "source": [
    "#check each import if it's really necessary\n",
    "import cv2 \n",
    "import time\n",
    "import numpy as np\n",
    "from PIL import Image \n",
    "import math\n",
    "import matplotlib\n",
    "from matplotlib.pyplot import imshow\n",
    "from matplotlib import pyplot as plt\n",
    "\n",
    "#import from global control\n",
    "#import from glocal + control\n",
    "import pyvisgraph as vg\n",
    "import geopandas as gpd\n",
    "from geopandas import GeoSeries\n",
    "from shapely.geometry import Polygon, Point, LineString\n",
    "import time"
   ]
  },
  {
   "cell_type": "code",
   "execution_count": 3,
   "id": "c3bd16fc",
   "metadata": {},
   "outputs": [],
   "source": [
    "import Vision as vis\n",
    "import Global as glob\n",
    "import control as ctrl\n",
    "import local_nav as local\n",
    "\n",
    "# fonction et classe filtering\n",
    "from kalman import kalman_step\n",
    "from EKF_class import ExtendedKalmanFilterAstolfi"
   ]
  },
  {
   "cell_type": "code",
   "execution_count": 4,
   "id": "22b461a8",
   "metadata": {},
   "outputs": [
    {
     "name": "stderr",
     "output_type": "stream",
     "text": [
      "100%|████████████████████████████████████████████████████████████████████████████████████| 2/2 [00:00<00:00, 60.35it/s]\n"
     ]
    },
    {
     "name": "stdout",
     "output_type": "stream",
     "text": [
      "failure in identifying corners\n",
      "failure in identifying corners\n",
      "thymio indetectable\n",
      "thymio indetectable\n",
      "thymio indetectable\n",
      "thymio indetectable\n",
      "thymio indetectable\n",
      "failure in identifying corners\n"
     ]
    },
    {
     "data": {
      "image/png": "[encoded data removed]",
      "text/plain": [
       "<Figure size 432x288 with 1 Axes>"
      ]
     },
     "metadata": {
      "needs_background": "light"
     },
     "output_type": "display_data"
    }
   ],
   "source": [
    "#Open camera\n",
    "cap = cv2.VideoCapture(1, cv2.CAP_DSHOW)\n",
    "frame=vis.takePicture(cap)\n",
    "\n",
    "#global variables \n",
    "state=0 #state of the global FSM\n",
    "switch_next=0  #FSM for Astolfi\n",
    "path_iter=1  #next step in the path list = being the starting position\n",
    "obst = [0,0,0,0,0]   # measurements from front prox sensors\n",
    "local_motors_speed = [0,0]     # command of the wheels when in local avoidance\n",
    "\n",
    "#init of Kalman variables, et visualization of trajectory\n",
    "KF = ExtendedKalmanFilterAstolfi()\n",
    "KF.set_time_stamp(time.time())\n",
    "sensor_package = []\n",
    "kalman_pos = []\n",
    "coordThym = []\n",
    "coordKalm = []\n",
    "\n",
    "#Main Loop\n",
    "while (cap.isOpened()):\n",
    "    ret, frame = cap.read()\n",
    "    img = cv2.cvtColor(frame, cv2.COLOR_BGR2RGB)\n",
    "    \n",
    "    #initialization state\n",
    "    if(state==0):\n",
    "        corner_coord=vis.find_corners(img)\n",
    "        img_calibrated=vis.img_calibration(img, corner_coord)\n",
    "        init=vis.initialization(img_calibrated)\n",
    "        path=glob.global_pathplanning(init[0],init[1],init[2])\n",
    "        #initializing the Kalman state vector\n",
    "        init_pos=[init[0][0],init[0][1]]\n",
    "        init_angle=init[3]\n",
    "        KF.init_state_vector(init_pos[0],init_pos[1],init_angle,0,0,0,0,0)\n",
    "        state=1\n",
    "    \n",
    "    #Global navigation state\n",
    "    if (state==1):\n",
    "        img_calibrated=vis.img_calibration(img, corner_coord)\n",
    "        #get all the necessary information for the kalman pose estimation\n",
    "        pos_thym=vis.detectThymio(img_calibrated)[0]\n",
    "        angle_thym=vis.directionThymio(img_calibrated)\n",
    "        vit_roue_gauche, vit_roue_droite = ctrl.read_motors_speed(node,client)\n",
    "        sensor_package = [pos_thym[0], pos_thym[1], angle_thym, vit_roue_droite, vit_roue_gauche]\n",
    "        #get the pose estimation and formatting\n",
    "        E = kalman_step(sensor_package,KF)\n",
    "        kalman_pos = [E[0], E[1]]\n",
    "        kalman_pos = np.squeeze(np.asarray(kalman_pos))\n",
    "        angle_kalman=E[2]\n",
    "        angle_kalman = np.squeeze(np.asarray(angle_kalman[0]))\n",
    "        #send the kalman pose estimation to the astolfi controller\n",
    "        switch_next=ctrl.astolfi(kalman_pos,path[path_iter],angle_kalman,node)\n",
    "        #check for local avoidance and if it's the case switch state\n",
    "        prox_horizontal = ctrl.read_prox_sensors(node,client)\n",
    "        obst = [prox_horizontal[0], prox_horizontal[1], prox_horizontal[2], prox_horizontal[3], prox_horizontal[4]]\n",
    "        state = local.update_state(state,obst,client) \n",
    "        #iterate over global path if thymio reached checkpoint\n",
    "        if(switch_next==1):\n",
    "            path_iter=path_iter+1\n",
    "            #goal reached\n",
    "            if(path_iter==len(path)):\n",
    "                ctrl.stopmotors(node)\n",
    "                state=3\n",
    "    #Local Avoidance state\n",
    "    if(state==2):\n",
    "        motor_speed_memory = ctrl.read_motors_speed(node,client)\n",
    "        local_motors_speed = local.local_nav(prox_horizontal,motor_speed_memory)\n",
    "        ctrl.set_motors(local_motors_speed[0],local_motors_speed[1],node)\n",
    "        # get the proximity sensors values and obstacle update\n",
    "        prox_horizontal = ctrl.read_prox_sensors(node,client)\n",
    "        obst = [prox_horizontal[0], prox_horizontal[1], prox_horizontal[2], prox_horizontal[3], prox_horizontal[4]]\n",
    "        # update the state between state 1 and state 2\n",
    "        state = local.update_state(state,obst,client)\n",
    "        #local avoidance is a blocking state therefore we have to take a new picture and initialize back the kalman state vector\n",
    "        if state==1:\n",
    "            ret, frame = cap.read()\n",
    "            img = cv2.cvtColor(frame, cv2.COLOR_BGR2RGB)\n",
    "            img_calibrated=vis.img_calibration(img, corner_coord)\n",
    "            pos_thym=vis.detectThymio(img_calibrated)[0]\n",
    "            angle_thym=vis.directionThymio(img_calibrated)\n",
    "            KF.init_state_vector(pos_thym[0],pos_thym[1],angle_thym,0,0,0,0,0)\n",
    "\n",
    "    if state==3:\n",
    "        break\n",
    "    \n",
    "    vis.printGlobalPath(path, img_calibrated)\n",
    "    vis.printThymio(img_calibrated,kalman_pos,coordKalm)\n",
    "    final_img = cv2.cvtColor(img_calibrated, cv2.COLOR_RGB2BGR)\n",
    "    cv2.imshow(\"Thymio Navigation Visualizer\", final_img)\n",
    "    if cv2.waitKey(1) & 0xFF ==ord('q'):\n",
    "        break\n",
    "        \n",
    "cap.release()"
   ]
  },
  {
   "cell_type": "code",
   "execution_count": 6,
   "id": "478db420",
   "metadata": {},
   "outputs": [],
   "source": [
    "ctrl.stopmotors(node)"
   ]
  },
  {
   "cell_type": "code",
   "execution_count": null,
   "id": "704ede23",
   "metadata": {},
   "outputs": [],
   "source": []
  }
 ],
 "metadata": {
  "kernelspec": {
   "display_name": "Python 3 (ipykernel)",
   "language": "python",
   "name": "python3"
  },
  "language_info": {
   "codemirror_mode": {
    "name": "ipython",
    "version": 3
   },
   "file_extension": ".py",
   "mimetype": "text/x-python",
   "name": "python",
   "nbconvert_exporter": "python",
   "pygments_lexer": "ipython3",
   "version": "3.8.12"
  }
 },
 "nbformat": 4,
 "nbformat_minor": 5
}
