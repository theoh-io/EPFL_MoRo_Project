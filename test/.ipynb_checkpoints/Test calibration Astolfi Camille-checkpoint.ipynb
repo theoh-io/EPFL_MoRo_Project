{
 "cells": [
  {
   "cell_type": "code",
   "execution_count": 35,
   "id": "e6e0e9b5",
   "metadata": {},
   "outputs": [
    {
     "name": "stdout",
     "output_type": "stream",
     "text": [
      "210.6380689382718\n"
     ]
    }
   ],
   "source": [
    "import numpy as np \n",
    "\n",
    "l=48\n",
    "r=22\n",
    "kp=25\n",
    "kbeta=-0.0001     # <0\n",
    "kalpha=32         # >kp\n",
    "\n",
    "#min 100 max 300\n",
    "dist=180\n",
    "alpha=5\n",
    "beta=45\n",
    "v=kp*dist\n",
    "omega=np.radians(kalpha*alpha+kbeta*beta)\n",
    "\n",
    "#right_speed=(l*omega+v)/r\n",
    "#left_speed=(v-l*omega)/r\n",
    "comp1=omega*l/r #v=0\n",
    "comp2=(l*omega+v)/r\n",
    "#print(comp1)\n",
    "print(comp2)"
   ]
  },
  {
   "cell_type": "code",
   "execution_count": null,
   "id": "e3790261",
   "metadata": {},
   "outputs": [],
   "source": []
  }
 ],
 "metadata": {
  "kernelspec": {
   "display_name": "Python 3",
   "language": "python",
   "name": "python3"
  },
  "language_info": {
   "codemirror_mode": {
    "name": "ipython",
    "version": 3
   },
   "file_extension": ".py",
   "mimetype": "text/x-python",
   "name": "python",
   "nbconvert_exporter": "python",
   "pygments_lexer": "ipython3",
   "version": "3.8.8"
  }
 },
 "nbformat": 4,
 "nbformat_minor": 5
}
