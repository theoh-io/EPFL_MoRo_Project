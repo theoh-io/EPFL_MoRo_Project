{
 "cells": [
  {
   "cell_type": "code",
   "execution_count": 8,
   "metadata": {},
   "outputs": [
    {
     "data": {
      "text/plain": [
       "<coroutine object stopmotors at 0x0000017662D641C0>"
      ]
     },
     "execution_count": 8,
     "metadata": {},
     "output_type": "execute_result"
    }
   ],
   "source": [
    "ctrl.stopmotors(node)"
   ]
  },
  {
   "cell_type": "code",
   "execution_count": 1,
   "metadata": {},
   "outputs": [
    {
     "data": {
      "text/plain": [
       "Node eb16048f-962c-44b2-9651-cc3b67bca83b"
      ]
     },
     "execution_count": 1,
     "metadata": {},
     "output_type": "execute_result"
    }
   ],
   "source": [
    "#lancer la communication asynchrone avec thymio\n",
    "from tdmclient import ClientAsync, aw\n",
    "client = ClientAsync()\n",
    "node = await client.wait_for_node()\n",
    "await node.lock()\n",
    "\n",
    "#vérifier d'avoir installer pyserial\n",
    "\n",
    "\n",
    "\n"
   ]
  },
  {
   "cell_type": "code",
   "execution_count": 4,
   "metadata": {},
   "outputs": [],
   "source": [
    "import sys\n",
    "sys.path.append(r\"/Users/camilleguillaume/Documents/Mobile Robotics/EPFL_MobileRobotics_2021\")\n",
    "\n",
    "import numpy as np\n",
    "import control as ctrl"
   ]
  },
  {
   "cell_type": "code",
   "execution_count": 9,
   "metadata": {},
   "outputs": [],
   "source": [
    "vmax=250\n",
    "vmin=50\n",
    "#ctrl.set_motors(vmax,vmax,node)\n",
    "ctrl.set_motors(vmin,vmin,node)"
   ]
  },
  {
   "cell_type": "code",
   "execution_count": 10,
   "metadata": {},
   "outputs": [],
   "source": [
    "ctrl.stopmotors(node)"
   ]
  },
  {
   "cell_type": "code",
   "execution_count": 6,
   "metadata": {
    "scrolled": true
   },
   "outputs": [],
   "source": [
    "#testing the low level functions\n",
    "aw(node.set_variables(ctrl.motors(50,50)))\n",
    "\n",
    "aw(client.sleep(1))\n",
    "\n",
    "aw(node.set_variables(ctrl.motors(0,0)))\n",
    "\n",
    "#robot ne semble pas aller en ligne droite => tracer avec un crayon et vérifier avec autres thymio"
   ]
  },
  {
   "cell_type": "code",
   "execution_count": 5,
   "metadata": {},
   "outputs": [],
   "source": [
    "#testing the middle level functions\n",
    "ctrl.set_motors(500,500, node)\n",
    "aw(client.sleep(5))\n",
    "ctrl.stopmotors(node)"
   ]
  },
  {
   "cell_type": "code",
   "execution_count": 7,
   "metadata": {},
   "outputs": [
    {
     "name": "stdout",
     "output_type": "stream",
     "text": [
      "0\n",
      "32\n",
      "43\n",
      "43\n",
      "44\n"
     ]
    }
   ],
   "source": [
    "#trying to read values from thymio\n",
    "await node.wait_for_variables({\"motor.left.speed\",\"motor.right.speed\"})\n",
    "\n",
    "ctrl.set_motors(50,50, node)\n",
    "\n",
    "for i in range(5):\n",
    "    print(node.v.motor.left.speed)\n",
    "    await client.sleep(0.1)\n",
    "ctrl.stopmotors(node)\n",
    "#better version of it would be to replace the for loop with a polling function from python library"
   ]
  },
  {
   "cell_type": "code",
   "execution_count": 8,
   "metadata": {},
   "outputs": [
    {
     "name": "stdout",
     "output_type": "stream",
     "text": [
      "[83, 95]\n",
      "[104, 102]\n",
      "[99, 103]\n",
      "[104, 101]\n",
      "[104, 101]\n",
      "[102, 107]\n",
      "[102, 103]\n",
      "[102, 102]\n",
      "[98, 101]\n",
      "[96, 104]\n"
     ]
    }
   ],
   "source": [
    "#testing the read motors speed value\n",
    "ctrl.set_motors(100,100, node)\n",
    "for i in range(10):\n",
    "    print(ctrl.read_motors_speed(node,client))\n",
    "    aw(client.sleep(0.5))\n",
    "ctrl.set_motors(0,0, node)"
   ]
  },
  {
   "cell_type": "code",
   "execution_count": 16,
   "metadata": {},
   "outputs": [
    {
     "data": {
      "text/plain": [
       "{'error_code': 2}"
      ]
     },
     "execution_count": 16,
     "metadata": {},
     "output_type": "execute_result"
    }
   ],
   "source": [
    "#calibration - translation\n",
    "#real_speed: make the robot move at runspeed for 1s and measure distance\n",
    "aw(node.set_variables(ctrl.motors(100,100)))\n",
    "aw(client.sleep(4))\n",
    "aw(node.set_variables(ctrl.motors(0,0)))\n",
    "#résulat on mesure 13cm pour 4s => 3,25 cm/s"
   ]
  },
  {
   "cell_type": "code",
   "execution_count": 17,
   "metadata": {},
   "outputs": [
    {
     "ename": "TypeError",
     "evalue": "object NoneType can't be used in 'await' expression",
     "output_type": "error",
     "traceback": [
      "\u001b[1;31m---------------------------------------------------------------------------\u001b[0m",
      "\u001b[1;31mTypeError\u001b[0m                                 Traceback (most recent call last)",
      "\u001b[1;32m~\\AppData\\Local\\Temp/ipykernel_31800/459909678.py\u001b[0m in \u001b[0;36m<module>\u001b[1;34m\u001b[0m\n\u001b[0;32m      2\u001b[0m \u001b[0mstart\u001b[0m\u001b[1;33m=\u001b[0m\u001b[1;33m(\u001b[0m\u001b[1;36m0.00\u001b[0m\u001b[1;33m,\u001b[0m \u001b[1;36m1.00\u001b[0m\u001b[1;33m)\u001b[0m\u001b[1;33m\u001b[0m\u001b[1;33m\u001b[0m\u001b[0m\n\u001b[0;32m      3\u001b[0m \u001b[0mgoal\u001b[0m\u001b[1;33m=\u001b[0m\u001b[1;33m(\u001b[0m\u001b[1;36m1.00\u001b[0m\u001b[1;33m,\u001b[0m \u001b[1;36m1.00\u001b[0m\u001b[1;33m)\u001b[0m\u001b[1;33m\u001b[0m\u001b[1;33m\u001b[0m\u001b[0m\n\u001b[1;32m----> 4\u001b[1;33m \u001b[1;32mawait\u001b[0m \u001b[1;33m(\u001b[0m\u001b[0mctrl\u001b[0m\u001b[1;33m.\u001b[0m\u001b[0mforward\u001b[0m\u001b[1;33m(\u001b[0m\u001b[0mgoal\u001b[0m\u001b[1;33m,\u001b[0m\u001b[0mstart\u001b[0m\u001b[1;33m,\u001b[0m\u001b[0mnode\u001b[0m\u001b[1;33m,\u001b[0m\u001b[0mclient\u001b[0m\u001b[1;33m)\u001b[0m\u001b[1;33m)\u001b[0m\u001b[1;33m\u001b[0m\u001b[1;33m\u001b[0m\u001b[0m\n\u001b[0m\u001b[0;32m      5\u001b[0m \u001b[0mprint\u001b[0m\u001b[1;33m(\u001b[0m\u001b[1;34m\"hello\"\u001b[0m\u001b[1;33m)\u001b[0m\u001b[1;33m\u001b[0m\u001b[1;33m\u001b[0m\u001b[0m\n",
      "\u001b[1;31mTypeError\u001b[0m: object NoneType can't be used in 'await' expression"
     ]
    }
   ],
   "source": [
    "#coeff_dist: forward with distance 1 => coord/s => divide by coeff_dist = mm/s\n",
    "start=(0.00, 1.00)\n",
    "goal=(1.00, 1.00)\n",
    "await (ctrl.forward(goal,start,node,client))\n",
    "print(\"hello\")"
   ]
  },
  {
   "cell_type": "code",
   "execution_count": 3,
   "metadata": {},
   "outputs": [],
   "source": [
    "#testing the high level function\n",
    "\n",
    "#inputs\n",
    "#from global nav\n",
    "next_point=(1.00,1.00)\n",
    "#from filter\n",
    "actual_point=(0.00,0.00)\n",
    "actual_angle=0.00\n",
    "\n",
    "#ctrl.turn(next_point, actual_point, actual_angle, node, client)\n",
    "#ctrl.forward(next_point, actual_point, node, client)\n",
    "\n",
    "ctrl.navigate(next_point,actual_point,actual_angle, node, client)"
   ]
  },
  {
   "cell_type": "code",
   "execution_count": 7,
   "metadata": {},
   "outputs": [
    {
     "name": "stdout",
     "output_type": "stream",
     "text": [
      "2.011032499999999\n"
     ]
    }
   ],
   "source": [
    "#timer to measure a block or function\n",
    "import time\n",
    "\n",
    "start = time.perf_counter()\n",
    "time.sleep(2)\n",
    "end = time.perf_counter()\n",
    "print(end-start)"
   ]
  },
  {
   "cell_type": "code",
   "execution_count": 10,
   "metadata": {},
   "outputs": [
    {
     "name": "stdout",
     "output_type": "stream",
     "text": [
      "-126.922169\n"
     ]
    }
   ],
   "source": [
    "#calibration of the rotation\n",
    "#FSM: state = 0 and button pressed => start rotating + launch timer\n",
    "#state = 1 + button pressed => stop rotating + stop timer\n",
    "\n",
    "#time for 1 rotation:9.94, <9.88  9.55, 3x=28,27=9,42, 28,55=9,517, 28,68=9,56, 28,7=9,57, x5: 47,96=9,59\n",
    "state=0\n",
    "start=0\n",
    "end=0\n",
    "\n",
    "await node.wait_for_variables({\"button.center\"})\n",
    "\n",
    "for i in range(300):\n",
    "    if(node.v.button.center==1 and state == 0):\n",
    "        start = time.perf_counter()\n",
    "        ctrl.calib_rot(node,client)\n",
    "        state=1\n",
    "        aw(client.sleep(0.2))\n",
    "    if(node.v.button.center==1 and state == 1):\n",
    "        end = time.perf_counter()\n",
    "        ctrl.stopmotors(node)\n",
    "        state=2\n",
    "        aw(client.sleep(0.2))\n",
    "    if(state==2):\n",
    "        break\n",
    "    aw(client.sleep(0.2))\n",
    "        \n",
    "print(end-start)"
   ]
  },
  {
   "cell_type": "code",
   "execution_count": 7,
   "metadata": {},
   "outputs": [
    {
     "name": "stdout",
     "output_type": "stream",
     "text": [
      "start\n",
      "100\n",
      "middle\n",
      "50\n",
      "almost\n",
      "25\n",
      "almost\n",
      "0\n"
     ]
    }
   ],
   "source": [
    "#tuning astolfi parameters\n",
    "#kp => straight line\n",
    "\n",
    "start=(0.00,0.00)\n",
    "goal=(1.00,0.00)\n",
    "angle=0.00\n",
    "print(\"start\")\n",
    "ctrl.astolfi(start,goal,angle, node)\n",
    "\n",
    "#for a distance of 1 initial speed is 100 if kp=2\n",
    "\n",
    "aw(client.sleep(0.5))\n",
    "actual=(0.5,0.00)\n",
    "print(\"middle\")\n",
    "ctrl.astolfi(actual ,goal,angle, node)\n",
    "aw(client.sleep(0.5))\n",
    "actual=(0.75,0.00)\n",
    "print(\"almost\")\n",
    "ctrl.astolfi(actual ,goal,angle, node)\n",
    "aw(client.sleep(0.5))\n",
    "actual=(1.00,0.00)\n",
    "print(\"almost\")\n",
    "ctrl.astolfi(actual ,goal,angle, node)"
   ]
  },
  {
   "cell_type": "code",
   "execution_count": null,
   "metadata": {},
   "outputs": [],
   "source": [
    "#tuning ka"
   ]
  },
  {
   "cell_type": "code",
   "execution_count": 5,
   "metadata": {},
   "outputs": [],
   "source": [
    "#testing the astolfi controller\n",
    "start=(0.00,0.00)\n",
    "goal=(1.00,1.00)\n",
    "angle=0.00\n",
    "\n",
    "ctrl.astolfi(start,goal,angle, node)"
   ]
  },
  {
   "cell_type": "code",
   "execution_count": null,
   "metadata": {},
   "outputs": [],
   "source": [
    "actual=(0.00,0.00)\n",
    "goal=(1.00,1.00)\n",
    "angle=45.00\n",
    "\n",
    "ctrl.astolfi(actual,goal,angle, node)"
   ]
  },
  {
   "cell_type": "markdown",
   "metadata": {},
   "source": [
    "Other things useful"
   ]
  },
  {
   "cell_type": "code",
   "execution_count": 10,
   "metadata": {},
   "outputs": [
    {
     "name": "stdout",
     "output_type": "stream",
     "text": [
      "[0, 0, 0, 0, 0, 0, 0]\n",
      "[0, 0, 0, 0, 0, 0, 0]\n",
      "[0, 0, 0, 0, 0, 0, 0]\n",
      "[0, 0, 0, 0, 0, 0, 0]\n",
      "[0, 0, 0, 0, 0, 0, 0]\n",
      "[0, 2506, 3113, 2410, 0, 0, 0]\n",
      "[0, 3102, 3979, 3006, 2921, 0, 0]\n",
      "[0, 3088, 3915, 3003, 2875, 0, 0]\n",
      "[0, 3110, 3930, 3021, 2908, 0, 0]\n",
      "[0, 3076, 3695, 2798, 2089, 0, 0]\n"
     ]
    }
   ],
   "source": [
    "await node.wait_for_variables({\"prox.horizontal\"})\n",
    "for i in range(10):\n",
    "    print(list(node.v.prox.horizontal))\n",
    "    await client.sleep(0.2)"
   ]
  },
  {
   "cell_type": "code",
   "execution_count": 5,
   "metadata": {},
   "outputs": [
    {
     "ename": "TypeError",
     "evalue": "object of type 'NoneType' has no len()",
     "output_type": "error",
     "traceback": [
      "\u001b[1;31m---------------------------------------------------------------------------\u001b[0m",
      "\u001b[1;31mTypeError\u001b[0m                                 Traceback (most recent call last)",
      "\u001b[1;32m~\\AppData\\Local\\Temp/ipykernel_31800/1418432381.py\u001b[0m in \u001b[0;36m<module>\u001b[1;34m\u001b[0m\n\u001b[0;32m      3\u001b[0m \u001b[1;33m\u001b[0m\u001b[0m\n\u001b[0;32m      4\u001b[0m \u001b[1;32mfor\u001b[0m \u001b[0mi\u001b[0m \u001b[1;32min\u001b[0m \u001b[0mrange\u001b[0m\u001b[1;33m(\u001b[0m\u001b[1;36m100\u001b[0m\u001b[1;33m)\u001b[0m\u001b[1;33m:\u001b[0m\u001b[1;33m\u001b[0m\u001b[1;33m\u001b[0m\u001b[0m\n\u001b[1;32m----> 5\u001b[1;33m     \u001b[1;32mif\u001b[0m\u001b[1;33m(\u001b[0m\u001b[0mnode\u001b[0m\u001b[1;33m.\u001b[0m\u001b[0mv\u001b[0m\u001b[1;33m.\u001b[0m\u001b[0mbutton\u001b[0m\u001b[1;33m.\u001b[0m\u001b[0mcenter\u001b[0m\u001b[1;33m==\u001b[0m\u001b[1;36m1\u001b[0m\u001b[1;33m)\u001b[0m\u001b[1;33m:\u001b[0m\u001b[1;33m\u001b[0m\u001b[1;33m\u001b[0m\u001b[0m\n\u001b[0m\u001b[0;32m      6\u001b[0m         \u001b[0mprint\u001b[0m\u001b[1;33m(\u001b[0m\u001b[1;34m\"button pressed\"\u001b[0m\u001b[1;33m)\u001b[0m\u001b[1;33m\u001b[0m\u001b[1;33m\u001b[0m\u001b[0m\n\u001b[0;32m      7\u001b[0m     \u001b[0maw\u001b[0m\u001b[1;33m(\u001b[0m\u001b[0mclient\u001b[0m\u001b[1;33m.\u001b[0m\u001b[0msleep\u001b[0m\u001b[1;33m(\u001b[0m\u001b[1;36m0.1\u001b[0m\u001b[1;33m)\u001b[0m\u001b[1;33m)\u001b[0m\u001b[1;33m\u001b[0m\u001b[1;33m\u001b[0m\u001b[0m\n",
      "\u001b[1;32m~\\anaconda3\\lib\\site-packages\\tdmclient\\clientasynccachenode.py\u001b[0m in \u001b[0;36m__getattr__\u001b[1;34m(self, key)\u001b[0m\n\u001b[0;32m     37\u001b[0m         \u001b[0mname\u001b[0m \u001b[1;33m=\u001b[0m \u001b[0mself\u001b[0m\u001b[1;33m.\u001b[0m\u001b[0mprefix\u001b[0m \u001b[1;33m+\u001b[0m \u001b[0mkey\u001b[0m\u001b[1;33m\u001b[0m\u001b[1;33m\u001b[0m\u001b[0m\n\u001b[0;32m     38\u001b[0m         \u001b[1;32mif\u001b[0m \u001b[0mname\u001b[0m \u001b[1;32min\u001b[0m \u001b[0mself\u001b[0m\u001b[1;33m.\u001b[0m\u001b[0mnode\u001b[0m\u001b[1;33m.\u001b[0m\u001b[0mvar\u001b[0m\u001b[1;33m:\u001b[0m\u001b[1;33m\u001b[0m\u001b[1;33m\u001b[0m\u001b[0m\n\u001b[1;32m---> 39\u001b[1;33m             \u001b[1;32mreturn\u001b[0m \u001b[0mself\u001b[0m\u001b[1;33m.\u001b[0m\u001b[0mnode\u001b[0m\u001b[1;33m.\u001b[0m\u001b[0m__getitem__\u001b[0m\u001b[1;33m(\u001b[0m\u001b[0mname\u001b[0m\u001b[1;33m)\u001b[0m\u001b[1;33m\u001b[0m\u001b[1;33m\u001b[0m\u001b[0m\n\u001b[0m\u001b[0;32m     40\u001b[0m         \u001b[1;32melse\u001b[0m\u001b[1;33m:\u001b[0m\u001b[1;33m\u001b[0m\u001b[1;33m\u001b[0m\u001b[0m\n\u001b[0;32m     41\u001b[0m             \u001b[1;31m# not there yet\u001b[0m\u001b[1;33m\u001b[0m\u001b[1;33m\u001b[0m\u001b[1;33m\u001b[0m\u001b[0m\n",
      "\u001b[1;32m~\\anaconda3\\lib\\site-packages\\tdmclient\\clientasynccachenode.py\u001b[0m in \u001b[0;36m__getitem__\u001b[1;34m(self, key)\u001b[0m\n\u001b[0;32m     74\u001b[0m     \u001b[1;32mdef\u001b[0m \u001b[0m__getitem__\u001b[0m\u001b[1;33m(\u001b[0m\u001b[0mself\u001b[0m\u001b[1;33m,\u001b[0m \u001b[0mkey\u001b[0m\u001b[1;33m)\u001b[0m\u001b[1;33m:\u001b[0m\u001b[1;33m\u001b[0m\u001b[1;33m\u001b[0m\u001b[0m\n\u001b[0;32m     75\u001b[0m         \u001b[0mv\u001b[0m \u001b[1;33m=\u001b[0m \u001b[0mself\u001b[0m\u001b[1;33m.\u001b[0m\u001b[0mvar\u001b[0m\u001b[1;33m[\u001b[0m\u001b[0mkey\u001b[0m\u001b[1;33m]\u001b[0m\u001b[1;33m\u001b[0m\u001b[1;33m\u001b[0m\u001b[0m\n\u001b[1;32m---> 76\u001b[1;33m         \u001b[1;32mif\u001b[0m \u001b[0mlen\u001b[0m\u001b[1;33m(\u001b[0m\u001b[0mv\u001b[0m\u001b[1;33m)\u001b[0m \u001b[1;33m==\u001b[0m \u001b[1;36m1\u001b[0m\u001b[1;33m:\u001b[0m\u001b[1;33m\u001b[0m\u001b[1;33m\u001b[0m\u001b[0m\n\u001b[0m\u001b[0;32m     77\u001b[0m             \u001b[1;31m# direct access for scalar\u001b[0m\u001b[1;33m\u001b[0m\u001b[1;33m\u001b[0m\u001b[1;33m\u001b[0m\u001b[0m\n\u001b[0;32m     78\u001b[0m             \u001b[1;32mreturn\u001b[0m \u001b[0mv\u001b[0m\u001b[1;33m[\u001b[0m\u001b[1;36m0\u001b[0m\u001b[1;33m]\u001b[0m\u001b[1;33m\u001b[0m\u001b[1;33m\u001b[0m\u001b[0m\n",
      "\u001b[1;31mTypeError\u001b[0m: object of type 'NoneType' has no len()"
     ]
    }
   ],
   "source": [
    "#trying to read values from thymio\n",
    "await node.wait_for_variables({\"button.center\"})\n",
    "\n",
    "for i in range(100):\n",
    "    if(node.v.button.center==1):\n",
    "        print(\"button pressed\")\n",
    "    aw(client.sleep(0.1))\n",
    "    \n",
    "\n",
    "#for i in range(30):\n",
    "   # print(node.v.button.center)\n",
    "   # if(node.v.button.center==1):\n",
    "    #    print(\"okok\")\n",
    "    #await client.sleep(0.1)\n",
    "\n",
    "#better version of it would be to replace the for loop with a polling function from python library"
   ]
  },
  {
   "cell_type": "code",
   "execution_count": null,
   "metadata": {},
   "outputs": [],
   "source": [
    "import time\n",
    "\n",
    "# records the time at this instant of the program\n",
    "start = time.perf_counter()\n",
    "  \n",
    "# calls the function\n",
    "\n",
    "  \n",
    "# records the time at this instant of the program\n",
    "end = time.perf_counter()\n",
    "  \n",
    "# printing the execution time by subtracting\n",
    "# the time before the function from the time after the function\n",
    "print(end-start)"
   ]
  },
  {
   "cell_type": "code",
   "execution_count": 8,
   "metadata": {},
   "outputs": [],
   "source": [
    "#loading an aseba program into the thymio\n",
    "from tdmclient.atranspiler import ATranspiler\n",
    "\n",
    "thymio_program_python = \"\"\"\n",
    "\n",
    "\n",
    "@onevent\n",
    "def prox():\n",
    "    global prox_horizontal, motor_left_target, motor_right_target\n",
    "    prox_front = prox_horizontal[2]\n",
    "    speed = -prox_front // 10\n",
    "    motor_left_target = speed\n",
    "    motor_right_target = speed\n",
    "\"\"\"\n",
    "\n",
    "# convert program from Python to Aseba\n",
    "thymio_program_aseba = ATranspiler.simple_transpile(thymio_program_python)\n",
    "\n",
    "with ClientAsync() as client:\n",
    "    async def prog():\n",
    "        with await client.lock() as node:\n",
    "            error = await node.compile(thymio_program_aseba)\n",
    "            error = await node.run()\n",
    "\n",
    "    client.run_async_program(prog)"
   ]
  },
  {
   "cell_type": "code",
   "execution_count": 15,
   "metadata": {},
   "outputs": [],
   "source": [
    "await node.unlock()"
   ]
  },
  {
   "cell_type": "code",
   "execution_count": 14,
   "metadata": {},
   "outputs": [
    {
     "data": {
      "text/plain": [
       "Node 04d77dce-f5d6-490f-8ba3-71c4128a70e2"
      ]
     },
     "execution_count": 14,
     "metadata": {},
     "output_type": "execute_result"
    }
   ],
   "source": [
    "await node.lock()"
   ]
  },
  {
   "cell_type": "code",
   "execution_count": null,
   "metadata": {},
   "outputs": [],
   "source": []
  }
 ],
 "metadata": {
  "kernelspec": {
   "display_name": "Python 3",
   "language": "python",
   "name": "python3"
  },
  "language_info": {
   "codemirror_mode": {
    "name": "ipython",
    "version": 3
   },
   "file_extension": ".py",
   "mimetype": "text/x-python",
   "name": "python",
   "nbconvert_exporter": "python",
   "pygments_lexer": "ipython3",
   "version": "3.8.8"
  }
 },
 "nbformat": 4,
 "nbformat_minor": 4
}
