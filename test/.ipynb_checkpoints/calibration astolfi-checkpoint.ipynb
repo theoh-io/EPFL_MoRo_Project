{
 "cells": [
  {
   "cell_type": "markdown",
   "id": "19794565",
   "metadata": {},
   "source": [
    "## commande moteur typique"
   ]
  },
  {
   "cell_type": "code",
   "execution_count": 2,
   "id": "9895efb5",
   "metadata": {},
   "outputs": [
    {
     "name": "stdout",
     "output_type": "stream",
     "text": [
      "252.27272727272728\n"
     ]
    }
   ],
   "source": [
    "#variables constantes\n",
    "r=22\n",
    "l=48\n",
    "#tuning parameters\n",
    "kp=30\n",
    "dist=185\n",
    "v=kp*dist\n",
    "comm=v/r\n",
    "print(comm)"
   ]
  },
  {
   "cell_type": "code",
   "execution_count": 4,
   "id": "bef3d302",
   "metadata": {},
   "outputs": [
    {
     "name": "stdout",
     "output_type": "stream",
     "text": [
      "183.33333333333334\n",
      "55.0\n"
     ]
    }
   ],
   "source": [
    "#range de saturation\n",
    "comm_sat_max=250\n",
    "print(comm_sat_max*r/kp)\n",
    "#thresh_far=185\n",
    "\n",
    "comm_sat_min=75\n",
    "print(comm_sat_min*r/kp)\n",
    "#thresh_close 55"
   ]
  },
  {
   "cell_type": "code",
   "execution_count": null,
   "id": "be31019b",
   "metadata": {},
   "outputs": [],
   "source": []
  }
 ],
 "metadata": {
  "kernelspec": {
   "display_name": "Python 3 (ipykernel)",
   "language": "python",
   "name": "python3"
  },
  "language_info": {
   "codemirror_mode": {
    "name": "ipython",
    "version": 3
   },
   "file_extension": ".py",
   "mimetype": "text/x-python",
   "name": "python",
   "nbconvert_exporter": "python",
   "pygments_lexer": "ipython3",
   "version": "3.8.12"
  }
 },
 "nbformat": 4,
 "nbformat_minor": 5
}
